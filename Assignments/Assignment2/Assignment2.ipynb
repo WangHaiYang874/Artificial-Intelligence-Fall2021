{
 "cells": [
  {
   "cell_type": "code",
   "execution_count": 1,
   "metadata": {},
   "outputs": [],
   "source": [
    "import numpy as np\n",
    "\n",
    "import matplotlib.pyplot as plt\n",
    "from matplotlib import animation, rc\n",
    "from IPython.display import HTML"
   ]
  },
  {
   "cell_type": "markdown",
   "metadata": {},
   "source": [
    "<h2><center>Artificial Intelligence, Assignment 2</center></h2>\n",
    "\n",
    "<h3><center>Search agents</center></h3>\n",
    "\n",
    "<img src='imageAIAssignment002.jpeg' width=\"400\" height=\"400\">\n",
    "\n",
    "\n",
    "__Total:__ 27pts + 5pts\n",
    "\n",
    "__Given date:__ Tuesday September 28\n",
    "\n",
    "__Due date:__ Friday October 15"
   ]
  },
  {
   "cell_type": "markdown",
   "metadata": {},
   "source": [
    "### Question 1. A story of robots and batteries \n",
    "\n",
    "##### (15pts + 2pts)\n",
    "\n",
    "We consider the simple $12\\times12$ world depicted below. In this first exercise, we will study the behavior of an agent that can only see the immediately adjacent cells (that is it only sees the cells that are directly in front, behind, or on its left/right). Your agent is a simple robot that enters the maze from the bottom left cell and must reach the exit which is located on the uppermost rightmost cell. \n",
    "\n",
    "\n",
    "<img src='MAZE002.png' width=\"400\" height=\"400\">\n",
    "\n",
    "<p style=\"margin-bottom:1cm;\"></p>\n",
    "\n",
    "The objective of the agent is twofold:\n",
    "\n",
    "   - 1) It has to find the exit (In a first approach, we won't take any step cost into account), while avoiding all the holes.\n",
    "\n",
    "   - 2) It has to collect all the batteries.\n",
    "\n",
    "\n",
    "\n",
    "##### Question 1.1. (5pts) A simple reflex agent \n",
    "\n",
    "Using a simple while loop and follow the ideas discussed during the recitations to code a simple reflex agent that achieves this objective. When the agent faces a pit, it should avoid it. When the agent is on a cell containing a battery, it should collect it. Finally the agent can only move in the four immediately adjacent cells to its current position. When it sees no pit and there are no batteries in any of the adjacent cells, it should move at random. Consider adding on the order of 14 batteries and 18 holes (first manually, then at random) \n"
   ]
  },
  {
   "cell_type": "markdown",
   "metadata": {},
   "source": [
    "##### Answer 1.1\n",
    "\n",
    "The below is a simple impletations of this simple reflex agent."
   ]
  },
  {
   "cell_type": "code",
   "execution_count": 61,
   "metadata": {},
   "outputs": [],
   "source": [
    "# generating the table\n",
    "\n",
    "shape = (12,12)\n",
    "size = shape[0]*shape[1]\n",
    "\n",
    "num_bat = 14\n",
    "num_holes = 18\n",
    "\n",
    "world = np.zeros(size)\n",
    "# it should not be 0, which would be the starting position. \n",
    "\n",
    "# generating the batteries and holes randomly.\n",
    "\n",
    "i = 0\n",
    "while i < num_bat:\n",
    "    pos = np.random.randint(0,size)\n",
    "    if world[pos] == 0:\n",
    "        world[pos] = 1\n",
    "        i += 1\n",
    "\n",
    "i = 0\n",
    "while i < num_holes:\n",
    "    pos = np.random.randint(1, size-1)\n",
    "    # the initial/exit position cannot be a hole. \n",
    "    if world[pos] == 0:\n",
    "        world[pos] = -1\n",
    "        i += 1\n",
    "\n",
    "# -1 means there is a hole, +1 means there is a batteries. \n",
    "\n",
    "world = world.reshape(shape)\n",
    "holes = np.where(world==-1)\n",
    "batteries = np.where(world==1)"
   ]
  },
  {
   "cell_type": "code",
   "execution_count": 62,
   "metadata": {},
   "outputs": [],
   "source": [
    "# initial states\n",
    "collected = set()\n",
    "# this sets contains the collected batteries. \n",
    "end_pos = (shape[0]-1,shape[1]-1)\n",
    "start_pos = (0, 0)\n",
    "\n",
    "curr_pos = start_pos"
   ]
  },
  {
   "cell_type": "code",
   "execution_count": 63,
   "metadata": {},
   "outputs": [],
   "source": [
    "def children(pos, avoids=[-1]):\n",
    "    ret = []\n",
    "    x, y = pos\n",
    "    for xx in [x-1,x+1]:\n",
    "        if xx>= 0 and xx<shape[0] and (world[xx,y] not in avoids):\n",
    "            ret.append((xx,y))\n",
    "    for yy in [y-1,y+1]:\n",
    "        if yy>= 0 and yy<shape[1] and (world[x,yy] not in avoids):\n",
    "            ret.append((x,yy))\n",
    "    return ret"
   ]
  },
  {
   "cell_type": "code",
   "execution_count": 64,
   "metadata": {},
   "outputs": [],
   "source": [
    "# if a solution is possible, this should return quickly.\n",
    "# however, if a solution does not exist, then it will run forever. \n",
    "\n",
    "while (len(collected) < num_bat) or (curr_pos != end_pos):\n",
    "    if world[curr_pos] == 1:\n",
    "        # collecting a battery\n",
    "        collected.add(curr_pos)\n",
    "    elif world[curr_pos] == -1:\n",
    "        # entered a hole\n",
    "        raise Exception(\"In the holes\")\n",
    "        \n",
    "    next_positions = children(curr_pos)\n",
    "\n",
    "    if len(next_positions) == 0:\n",
    "        raise Exception(\"No next steps to move\")\n",
    "    else:\n",
    "        for next_pos in next_positions:\n",
    "            if world[next_pos] == 1 and next_pos not in collected:\n",
    "                curr_pos = next_pos\n",
    "                continue\n",
    "        curr_pos = next_positions[np.random.choice(len(next_positions))]"
   ]
  },
  {
   "cell_type": "code",
   "execution_count": 65,
   "metadata": {},
   "outputs": [
    {
     "name": "stdout",
     "output_type": "stream",
     "text": [
      "[[ 0.  0.  0.  0.  0.  0.  0.  1.  0.  0.  0.  0.]\n",
      " [ 1.  0.  0. -1.  0. -1.  0.  0. -1.  0. -1. -1.]\n",
      " [ 0.  0.  1.  0.  0.  0.  0.  0.  0.  0.  0. -1.]\n",
      " [ 1.  0.  0.  0.  0.  1.  0. -1.  0.  0.  0.  1.]\n",
      " [-1. -1.  0.  0.  0.  1.  0.  1.  0.  0.  0.  0.]\n",
      " [ 0.  0.  0.  1.  0.  0.  0.  0.  0.  0.  0.  0.]\n",
      " [ 0.  0.  0. -1.  0.  0.  0.  0.  0.  0.  1. -1.]\n",
      " [ 0.  0.  1.  1.  0.  0.  0.  1.  0.  0. -1.  0.]\n",
      " [ 0.  0.  0.  0.  0.  0.  0. -1.  0.  0.  0.  0.]\n",
      " [-1.  0.  0.  0.  1.  0. -1. -1.  0.  0.  0.  0.]\n",
      " [ 0. -1.  0.  0.  0.  0.  0.  0.  0.  0.  0.  0.]\n",
      " [ 0.  0.  0. -1.  0.  0.  0.  0.  0.  0.  0.  0.]]\n"
     ]
    },
    {
     "data": {
      "text/plain": [
       "(True, True)"
      ]
     },
     "execution_count": 65,
     "metadata": {},
     "output_type": "execute_result"
    }
   ],
   "source": [
    "# verifying that I indeed solved the problem\n",
    "print(world)\n",
    "collected == set(zip(batteries[0], batteries[1])), curr_pos == end_pos"
   ]
  },
  {
   "cell_type": "markdown",
   "metadata": {},
   "source": [
    "##### Question 1.2. (5pts) Search agent\n",
    "\n",
    "We will now assume that our agent has a map of the world. On top of the pits from above, the world now also contains walls, which are additional obstacles in the search for the exit.\n",
    "\n",
    "Solve the problem using Breadth First search. The children of a node are given by the adjacent cells. Once you have the path to a battery, stores it. Then continue BFS from the location of this battery and store your second path,.... Proceed like this until you have all the batteries. From the last battery find the exit.  \n",
    "\n",
    "<img src='Maze003.png' width=\"400\" height=\"400\">\n",
    "\n",
    "<p style=\"margin-bottom:1cm;\"></p>\n",
    "\n"
   ]
  },
  {
   "cell_type": "markdown",
   "metadata": {},
   "source": [
    "##### Anwser 1.2 \n",
    "\n",
    "Conceptually, walls and holes are the same thing: the agent can only avoid it. Their difference will only appear when you are drawing the graph. \n",
    "\n",
    "So in the implementation, I will not make a difference of the two. "
   ]
  },
  {
   "cell_type": "code",
   "execution_count": 68,
   "metadata": {},
   "outputs": [],
   "source": [
    "# generating the table\n",
    "\n",
    "shape = (12,12)\n",
    "size = shape[0]*shape[1]\n",
    "\n",
    "num_bat = 8\n",
    "num_holes = 8\n",
    "num_wall = 10\n",
    "\n",
    "world = np.zeros(size)\n",
    "\n",
    "# it should not be 0, which would be the starting position. \n",
    "\n",
    "# generating the batteries, holes and walls randomly. \n",
    "# 0 means there is nothing\n",
    "# 1 means there is a battery\n",
    "# -1 means there is a wall or a hole. \n",
    "\n",
    "i = 0\n",
    "while i < num_bat:\n",
    "    pos = np.random.randint(0,size)\n",
    "    if world[pos] == 0:\n",
    "        world[pos] = 1\n",
    "        i += 1\n",
    "\n",
    "i = 0\n",
    "while i < num_holes:\n",
    "    pos = np.random.randint(1, size-1)\n",
    "    # the randint starts from 1 because the initial position cannot be a hole. \n",
    "    if world[pos] == 0:\n",
    "        world[pos] = -1\n",
    "        i += 1\n",
    "i = 0\n",
    "while i < num_bat:\n",
    "    pos = np.random.randint(0,size)\n",
    "    if world[pos] == 0:\n",
    "        world[pos] = 2\n",
    "        i += 1\n",
    "\n",
    "world = world.reshape(shape)\n",
    "holes = np.where(world==-1)\n",
    "batteries = np.where(world==1)\n",
    "bat_coor = set(zip(batteries[0], batteries[1]))\n",
    "walls = np.where(world==2)\n",
    "\n",
    "world[world==2] = -1\n",
    "# this merges the walls and holes as the same thing. "
   ]
  },
  {
   "cell_type": "code",
   "execution_count": 69,
   "metadata": {},
   "outputs": [],
   "source": [
    "# initial states\n",
    "collected = set()\n",
    "# this sets contains the collected batteries. \n",
    "end_pos = (shape[0]-1,shape[1]-1)\n",
    "start_pos = (0, 0)\n",
    "curr_pos = start_pos"
   ]
  },
  {
   "cell_type": "code",
   "execution_count": 70,
   "metadata": {},
   "outputs": [],
   "source": [
    "def minimal_path(start, end=end_pos):\n",
    "    '''\n",
    "    this returns a path from curr_pos to the exit.\n",
    "    '''\n",
    "    if start == end:\n",
    "        return []\n",
    "    \n",
    "    explored = [start]\n",
    "    q = [start]\n",
    "    bp = {}\n",
    "    bp[start] = None\n",
    "    \n",
    "    while (end not in explored) and (len(q) > 0):\n",
    "        new_pos = []\n",
    "        for pos in q:\n",
    "            for child in children(pos):\n",
    "                if child not in explored:\n",
    "                    explored.append(child)\n",
    "                    new_pos.append(child)\n",
    "                    bp[child] = pos\n",
    "        q = new_pos\n",
    "    \n",
    "    if end in explored:\n",
    "        ret = []\n",
    "        curr_pos = end\n",
    "        while bp[curr_pos] != None:\n",
    "            ret.append(curr_pos)\n",
    "            curr_pos = bp[curr_pos]\n",
    "        ret.reverse()\n",
    "        return ret\n",
    "    else:\n",
    "        return None"
   ]
  },
  {
   "cell_type": "code",
   "execution_count": 78,
   "metadata": {},
   "outputs": [],
   "source": [
    "def find_next_bat(path):\n",
    "    collected = set([i for i in path if world[i]==1])\n",
    "    start = path[-1]\n",
    "    \n",
    "    if len(collected) == num_bat:\n",
    "        npath = minimal_path(start,end_pos)\n",
    "        if npath!=None:\n",
    "            return path + minimal_path(start,end_pos)\n",
    "        else: return None\n",
    "\n",
    "    explored = [start]\n",
    "    q = [start]\n",
    "    bp = {}\n",
    "    bp[start] = None\n",
    "    found = False\n",
    "    \n",
    "    while (not found) and (len(q) > 0):\n",
    "        new_pos = []\n",
    "        for pos in q:\n",
    "            for child in children(pos):\n",
    "                if child not in explored:\n",
    "                    explored.append(child)\n",
    "                    new_pos.append(child)\n",
    "                    bp[child] = pos\n",
    "                    if world[child] == 1 and (child not in collected):\n",
    "                        found = True\n",
    "                        batt = child\n",
    "        q = new_pos\n",
    "    \n",
    "    if found:\n",
    "        npath = []\n",
    "        curr_pos = batt\n",
    "        while bp[curr_pos] != None:\n",
    "            npath.append(curr_pos)\n",
    "            curr_pos = bp[curr_pos]\n",
    "        npath.reverse()\n",
    "        \n",
    "        return path + npath\n",
    "    else: return None"
   ]
  },
  {
   "cell_type": "code",
   "execution_count": 79,
   "metadata": {},
   "outputs": [
    {
     "name": "stdout",
     "output_type": "stream",
     "text": [
      "[(0, 0)]\n",
      "[(0, 0), (1, 0), (2, 0), (2, 1), (3, 1), (4, 1), (5, 1), (6, 1), (6, 0)]\n",
      "[(0, 0), (1, 0), (2, 0), (2, 1), (3, 1), (4, 1), (5, 1), (6, 1), (6, 0), (7, 0)]\n",
      "[(0, 0), (1, 0), (2, 0), (2, 1), (3, 1), (4, 1), (5, 1), (6, 1), (6, 0), (7, 0), (8, 0), (8, 1), (8, 2)]\n",
      "[(0, 0), (1, 0), (2, 0), (2, 1), (3, 1), (4, 1), (5, 1), (6, 1), (6, 0), (7, 0), (8, 0), (8, 1), (8, 2), (8, 1), (9, 1)]\n",
      "[(0, 0), (1, 0), (2, 0), (2, 1), (3, 1), (4, 1), (5, 1), (6, 1), (6, 0), (7, 0), (8, 0), (8, 1), (8, 2), (8, 1), (9, 1), (10, 1), (10, 2)]\n",
      "[(0, 0), (1, 0), (2, 0), (2, 1), (3, 1), (4, 1), (5, 1), (6, 1), (6, 0), (7, 0), (8, 0), (8, 1), (8, 2), (8, 1), (9, 1), (10, 1), (10, 2), (11, 2), (11, 3), (11, 4), (10, 4), (9, 4), (8, 4), (8, 5), (8, 6)]\n",
      "[(0, 0), (1, 0), (2, 0), (2, 1), (3, 1), (4, 1), (5, 1), (6, 1), (6, 0), (7, 0), (8, 0), (8, 1), (8, 2), (8, 1), (9, 1), (10, 1), (10, 2), (11, 2), (11, 3), (11, 4), (10, 4), (9, 4), (8, 4), (8, 5), (8, 6), (8, 7), (7, 7), (7, 8), (7, 9), (7, 10), (7, 11)]\n",
      "[(0, 0), (1, 0), (2, 0), (2, 1), (3, 1), (4, 1), (5, 1), (6, 1), (6, 0), (7, 0), (8, 0), (8, 1), (8, 2), (8, 1), (9, 1), (10, 1), (10, 2), (11, 2), (11, 3), (11, 4), (10, 4), (9, 4), (8, 4), (8, 5), (8, 6), (8, 7), (7, 7), (7, 8), (7, 9), (7, 10), (7, 11), (6, 11), (5, 11), (4, 11), (4, 10)]\n",
      "[(0, 0), (1, 0), (2, 0), (2, 1), (3, 1), (4, 1), (5, 1), (6, 1), (6, 0), (7, 0), (8, 0), (8, 1), (8, 2), (8, 1), (9, 1), (10, 1), (10, 2), (11, 2), (11, 3), (11, 4), (10, 4), (9, 4), (8, 4), (8, 5), (8, 6), (8, 7), (7, 7), (7, 8), (7, 9), (7, 10), (7, 11), (6, 11), (5, 11), (4, 11), (4, 10), (4, 11), (5, 11), (6, 11), (7, 11), (8, 11), (9, 11), (10, 11), (11, 11)]\n"
     ]
    }
   ],
   "source": [
    "path = [(0,0)]\n",
    "while True:\n",
    "    print(path)\n",
    "    if path == None:\n",
    "        break\n",
    "    if path[-1] == end_pos and set(path).issuperset(bat_coor):\n",
    "        break\n",
    "    path = find_next_bat(path)"
   ]
  },
  {
   "cell_type": "markdown",
   "metadata": {},
   "source": [
    "indeed there is no solution this case. And it returned None. "
   ]
  },
  {
   "cell_type": "markdown",
   "metadata": {},
   "source": [
    "##### Question 1.3. (5pts) Informed search agent\n",
    "\n",
    "In this third question, we will use an informed search strategy to improve our agent. We want to use as our heuristic the $\\ell_1$ distance to the closest battery that has not been picked. Code a Best First Search agent whose heuristic changes as it picks up new batteries. As soon as it picked up the last battery, the heuristic becomes the $\\ell_1$ distance to the exit. You can assume that the cells have unitary side length. Also recall that the $\\ell_1$ distance is given by $\\|\\boldsymbol x_1 - \\boldsymbol x_2\\|_1 = |x_{11} - x_{21}| + |x_{12} - x_{22}|$ where $\\boldsymbol x_1 = (x_{11}, x_{12})$, $\\boldsymbol x_{2} = (x_{21}, x_{22})$.    \n",
    "\n",
    "\n",
    "<img src='Maze003.png' width=\"400\" height=\"400\">\n",
    "\n",
    "<p style=\"margin-bottom:1cm;\"></p>\n",
    "\n"
   ]
  },
  {
   "cell_type": "code",
   "execution_count": 97,
   "metadata": {},
   "outputs": [],
   "source": [
    "# generating the table\n",
    "\n",
    "shape = (12,12)\n",
    "size = shape[0]*shape[1]\n",
    "\n",
    "num_bat = 14\n",
    "num_holes = 14\n",
    "num_wall = 8\n",
    "\n",
    "world = np.zeros(size)\n",
    "\n",
    "# it should not be 0, which would be the starting position. \n",
    "\n",
    "# generating the batteries, holes and walls randomly. \n",
    "# 0 means there is nothing\n",
    "# 1 means there is a battery\n",
    "# -1 means there is a wall or a hole.\n",
    "\n",
    "i = 0\n",
    "while i < num_bat:\n",
    "    pos = np.random.randint(0,size)\n",
    "    if world[pos] == 0:\n",
    "        world[pos] = 1\n",
    "        i += 1\n",
    "\n",
    "i = 0\n",
    "while i < num_holes:\n",
    "    pos = np.random.randint(1, size-1)\n",
    "    # the randint starts from 1 because the initial position cannot be a hole. \n",
    "    if world[pos] == 0:\n",
    "        world[pos] = -1\n",
    "        i += 1\n",
    "i = 0\n",
    "while i < num_bat:\n",
    "    pos = np.random.randint(0,size-1)\n",
    "    if world[pos] == 0:\n",
    "        world[pos] = 2\n",
    "        i += 1\n",
    "\n",
    "world = world.reshape(shape)\n",
    "holes = np.where(world==-1)\n",
    "batteries = np.where(world==1)\n",
    "walls = np.where(world==2)\n",
    "\n",
    "world[world==2] = -1\n",
    "# this merges the walls and holes as the same thing. "
   ]
  },
  {
   "cell_type": "code",
   "execution_count": 98,
   "metadata": {},
   "outputs": [],
   "source": [
    "# initial states\n",
    "collected = set()\n",
    "# this sets contains the collected batteries. \n",
    "end_pos = (shape[0]-1,shape[1]-1)\n",
    "start_pos = (0, 0)\n",
    "\n",
    "bat_coor = set(zip(batteries[0],batteries[1]))\n",
    "\n",
    "path = [start_pos]"
   ]
  },
  {
   "cell_type": "code",
   "execution_count": 101,
   "metadata": {},
   "outputs": [],
   "source": [
    "def informed_search(path):\n",
    "    collected = set([i for i in path if world[i]==1])\n",
    "    start = path[-1]\n",
    "    \n",
    "    if len(collected) == num_bat:\n",
    "        npath = minimal_path(start,end_pos)\n",
    "        if npath != None:\n",
    "            return path + npath\n",
    "        return None\n",
    "    \n",
    "    mindist = size*size\n",
    "    nextbat = None\n",
    "    \n",
    "    for bat in bat_coor:\n",
    "        if bat not in collected:\n",
    "            d = abs(bat[0] - start[0]) + abs(bat[1] - start[1])\n",
    "            if d < mindist:\n",
    "                mindist = d\n",
    "                nextbat = bat\n",
    "    \n",
    "    assert(nextbat!=None)\n",
    "    \n",
    "    npath = minimal_path(start, nextbat)\n",
    "    if npath != None:\n",
    "        return informed_search(path+npath)\n",
    "    else:\n",
    "        return None"
   ]
  },
  {
   "cell_type": "code",
   "execution_count": 104,
   "metadata": {},
   "outputs": [
    {
     "data": {
      "text/plain": [
       "'(0, 0)   (1, 0)   (1, 1)   (2, 1)   (2, 0)   (3, 0)   (4, 0)   (5, 0)   (5, 1)   (6, 1)   (5, 1)   (5, 2)   (5, 3)   (5, 4)   (5, 5)   (6, 5)   (7, 5)   (7, 6)   (8, 6)   (9, 6)   (10, 6)   (10, 5)   (10, 4)   (11, 4)   (11, 5)   (10, 5)   (9, 5)   (9, 6)   (8, 6)   (8, 7)   (8, 8)   (8, 9)   (8, 10)   (7, 10)   (7, 9)   (7, 8)   (7, 7)   (7, 6)   (7, 5)   (6, 5)   (5, 5)   (4, 5)   (3, 5)   (3, 6)   (3, 7)   (3, 8)   (3, 9)   (2, 9)   (2, 10)   (2, 11)   (1, 11)   (1, 10)   (1, 9)   (0, 9)   (0, 8)   (0, 7)   (1, 7)   (1, 6)   (1, 5)   (2, 5)   (3, 5)   (4, 5)   (5, 5)   (6, 5)   (7, 5)   (7, 6)   (8, 6)   (9, 6)   (10, 6)   (10, 7)   (10, 8)   (10, 9)   (11, 9)   (11, 10)   (11, 11)'"
      ]
     },
     "execution_count": 104,
     "metadata": {},
     "output_type": "execute_result"
    }
   ],
   "source": [
    "'   '.join([str(i) for i in informed_search([(0,0)])])"
   ]
  },
  {
   "cell_type": "markdown",
   "metadata": {},
   "source": [
    "##### Bonus (2pts) \n",
    "Generate and display the movie of the search for each of the questions above. "
   ]
  },
  {
   "cell_type": "code",
   "execution_count": null,
   "metadata": {},
   "outputs": [],
   "source": [
    "# put your code here\n",
    "\n",
    "\n"
   ]
  },
  {
   "cell_type": "markdown",
   "metadata": {},
   "source": [
    "### Question 2. Rook Jumping\n",
    "\n",
    "##### (12pts + 3pts)\n",
    "\n",
    "In this second question, we consider a \"rook jumping\" maze. An example of such a maze is given below (the starting position is shown in red and the goal position is shown in green). \n",
    "\n",
    "\n",
    "\n",
    "<img src='RookMaze001.png' width=\"350\" height=\"350\">\n",
    "\n",
    "Each state in the maze has an associated jump number that provides the exact number of cells one may move horizontally or vertically in a straight line to change state. As an example, in the maze above, the first move may either be 2 cells on the right of (0,0) or 2 cells down to (2,0)."
   ]
  },
  {
   "cell_type": "markdown",
   "metadata": {},
   "source": [
    "#### Question 2.1. Generate the maze (2pts)\n",
    "\n",
    "Start by completing the function Maze_generation which takes as argument the dimension of the maze as well as a maximum jump number (don't take it much larger than n/2) and returns a matrix of random integers between 0 and the maximum jump length. "
   ]
  },
  {
   "cell_type": "code",
   "execution_count": 108,
   "metadata": {},
   "outputs": [],
   "source": [
    "def Maze_generation(n, m=None):\n",
    "    '''function should return a random maze'''\n",
    "    if m:\n",
    "        maze = np.random.randint(low=1, high=m, size=(n,n))\n",
    "    else:\n",
    "        maze = np.random.randint(low=1, high=n//2, size=(n,n))\n",
    "        \n",
    "    \n",
    "    return maze\n",
    "    "
   ]
  },
  {
   "cell_type": "code",
   "execution_count": 127,
   "metadata": {},
   "outputs": [],
   "source": [
    "def display_maze(maze):\n",
    "    fig, ax = plt.subplots()\n",
    "    max_val = max(maze.shape)    \n",
    "    ax.matshow(maze, cmap=plt.cm.Blues)\n",
    "\n",
    "    for i in range(max_val):\n",
    "        for j in range(max_val):\n",
    "            c = maze[j,i]\n",
    "            ax.text(i, j, str(c), va='center', ha='center')\n",
    "\n",
    "\n",
    "    ax.set_xticks([]) \n",
    "    ax.set_xticklabels([]) \n",
    "    ax.set_yticks([]) \n",
    "    ax.set_yticklabels([]) \n",
    "    plt.show()"
   ]
  },
  {
   "cell_type": "markdown",
   "metadata": {},
   "source": [
    "##### Question 2.2. (5pts) Maze Evaluation\n",
    "\n",
    "We now want to solve the maze (or equivalently, make sure it has a solution)  \n",
    "\n",
    "Using _Breadth First Search_ (start with a reasonably small maze, e.g. 5 by 5), compute the minimum distance (depth number of moves) to each cell from the start cell (take the start cell to be the _uppermost leftmost_ cell). For this, keep track of a list of the depth distances to each node and update this list each time you encounter the corresponding node. Once BFS completed, return the minimum element from the list. \n",
    "\n",
    "Finally return the negative of the minimmum length of the path from the start to the goal and a large positive number (e.g. 1e6) if there is no such path.\n"
   ]
  },
  {
   "cell_type": "code",
   "execution_count": 143,
   "metadata": {},
   "outputs": [],
   "source": [
    "def Maze_Evaluation(maze):\n",
    "    \n",
    "    '''The function takes a maze (random n x n array of integers)\n",
    "    and should return the the minimum \n",
    "    distances of the start node to the goal'''\n",
    "    d = maze.shape(0)\n",
    "    dis = np.zeros(maze.shape) + np.inf\n",
    "    start = (0,0)\n",
    "    dis[start] = 0\n",
    "    \n",
    "    q = [start]\n",
    "\n",
    "    def children(pos):\n",
    "        x,y = pos\n",
    "        steps = maze[pos]\n",
    "        ret = []\n",
    "        for xx in [x - steps, x + steps]:\n",
    "            if xx>= 0 and xx < d:\n",
    "                ret.apped((xx,y))\n",
    "        for yy in [y - steps, y + steps]:\n",
    "            if yy>= 0 and yy < d:\n",
    "                ret.apped((x,yy))\n",
    "        return ret\n",
    "\n",
    "    \n",
    "    while len(q):\n",
    "        newq = []\n",
    "        for pos in q:\n",
    "            assert(np.isfinite(dis[pos]))\n",
    "            for child in children(pos):\n",
    "                if not np.isfinite(dis[child]):\n",
    "                    dis[child] = dis[pos] + 1\n",
    "                    newq.append(child)\n",
    "        q = newq\n",
    "    \n",
    "    if np.isfinite(dis[(-1,-1)]):\n",
    "        return - abs(dis[(-1,-1)])\n",
    "    else: return np.inf"
   ]
  },
  {
   "cell_type": "markdown",
   "metadata": {},
   "source": [
    "##### Question 2.3. (5pts) Stochastic local search (Hill climbing)\n",
    "\n",
    "Now that we have a way of representing each maze, we will try to improve our maze with a stochastic local search. In this question, each state in our graph will encode a whole maze. Our local search algorithm will work as follows\n",
    "\n",
    "- For a random, non goal cell, change the jump number to a different random legal jump number\n",
    "\n",
    "- Re-evaluate the start to goal distance according to the _Maze_Evaluation_ function that you implemented in Question 2.2.\n",
    "\n",
    "- If the objective function has not increased, accept the change and store the new maze if its evaluation is the best evaluated so far. Otherwise, reject the change and revert the cell to its previous jump number\n",
    "\n",
    "Perform a few iterations of Stochastich HC and return the RJM with the best (minimum) objective function"
   ]
  },
  {
   "cell_type": "code",
   "execution_count": 150,
   "metadata": {},
   "outputs": [],
   "source": [
    "def Maze_improvement(maze_init, maxIter):\n",
    "    \n",
    "    '''The function takes an initial Rook Jumping maze and \n",
    "    a maximum number of iterations as an input and returns \n",
    "    the improvement of the original maze obtained \n",
    "    through maxIter iteration of Stochastic Hill Descent'''\n",
    "    \n",
    "    maze = maze_init.copy()\n",
    "    steps = Maze_Evaluation(maze)\n",
    "    d = maze.shape[0]\n",
    "    \n",
    "    non_goal_cells = [(i//d,i%d) for i in range(d*d-1)]\n",
    "    \n",
    "    for i in range(maxIter):\n",
    "        non_goal_cell = non_goal_cells[np.random.choice(len(non_goal_cells))]\n",
    "        new_val = np.random.randint(1,d//2)\n",
    "        old_val = maze[non_goal_cell]\n",
    "        \n",
    "        maze[non_goal_cell] == new_val\n",
    "        \n",
    "        if Maze_Evaluation(maze) <= steps:\n",
    "            steps = Maze_Evaluation(maze)\n",
    "        else:\n",
    "            maze[non_goal_cell] = old_val\n",
    "    \n",
    "    return maze\n",
    "    "
   ]
  },
  {
   "cell_type": "markdown",
   "metadata": {},
   "source": [
    "##### Bonus (3pts) Random Restart\n",
    "\n",
    "One problem with pure hill descent is that stochastic local search may become trapped in local minima. A possible escape strategy is to restart the search periodically. Another way of viewing this is that we iteratively perform pure hill descent, starting each descent at a random state. The end result is the best result from all descents.\n",
    "\n",
    "Add Random Restart to your 'Maze_improvement' function."
   ]
  },
  {
   "cell_type": "code",
   "execution_count": 156,
   "metadata": {},
   "outputs": [],
   "source": [
    "def Maze_improvement_RR(maze_init, max_iter_SHD, max_iter_RR):\n",
    "    \n",
    "    '''The function takes an initial (random) Rook Jumping maze and \n",
    "    a maximum number of iterations as an input and evaluates \n",
    "    the improvement of the original maze obtained \n",
    "    through max_iter_SHD iterations of Stochastic Hill Descent. \n",
    "    This process is repeated max_iter_RR times \n",
    "    (with different random initializations) and each of the \n",
    "    obtained solutions are stored. The max_iter_RR solutions are finally compared in \n",
    "    terms of the cost between the start and the goal node and \n",
    "    the best solution is returned as the final output'''\n",
    "    \n",
    "    ret = []\n",
    "    \n",
    "    for i in range(max_iter_RR):\n",
    "        \n",
    "        new_maze = Maze_improvement(maze_init,max_iter_SHD)\n",
    "        new_value = Maze_Evaluation(new_maze)\n",
    "        \n",
    "        ret.append(new_maze, new_value)\n",
    "        \n",
    "    ret.sort(key=lambda x:x[1])\n",
    "    \n",
    "    return ret[0]"
   ]
  }
 ],
 "metadata": {
  "interpreter": {
   "hash": "2a2a38fe34f8f37488d0fdf5c77f21fdb0e5a36ddb8afaa78e21eb865cd1002a"
  },
  "kernelspec": {
   "display_name": "Python 3",
   "language": "python",
   "name": "python3"
  },
  "language_info": {
   "codemirror_mode": {
    "name": "ipython",
    "version": 3
   },
   "file_extension": ".py",
   "mimetype": "text/x-python",
   "name": "python",
   "nbconvert_exporter": "python",
   "pygments_lexer": "ipython3",
   "version": "3.8.8"
  }
 },
 "nbformat": 4,
 "nbformat_minor": 4
}
