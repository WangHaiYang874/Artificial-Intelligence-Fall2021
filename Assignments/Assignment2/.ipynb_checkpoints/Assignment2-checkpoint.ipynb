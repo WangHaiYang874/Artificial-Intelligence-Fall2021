{
 "cells": [
  {
   "cell_type": "code",
   "execution_count": 2,
   "metadata": {},
   "outputs": [],
   "source": [
    "import numpy as np"
   ]
  },
  {
   "cell_type": "markdown",
   "metadata": {},
   "source": [
    "<h2><center>Artificial Intelligence, Assignment 2</center></h2>\n",
    "\n",
    "<h3><center>Search agents</center></h3>\n",
    "\n",
    "<img src='imageAIAssignment002.jpeg' width=\"400\" height=\"400\">\n",
    "\n",
    "\n",
    "__Total:__ 27pts + 5pts\n",
    "\n",
    "__Given date:__ Tuesday September 28\n",
    "\n",
    "__Due date:__ Friday October 15"
   ]
  },
  {
   "cell_type": "markdown",
   "metadata": {},
   "source": [
    "### Question 1. A story of robots and batteries \n",
    "\n",
    "##### (15pts + 2pts)\n",
    "\n",
    "We consider the simple $12\\times12$ world depicted below. In this first exercise, we will study the behavior of an agent that can only see the immediately adjacent cells (that is it only sees the cells that are directly in front, behind, or on its left/right). Your agent is a simple robot that enters the maze from the bottom left cell and must reach the exit which is located on the uppermost rightmost cell. \n",
    "\n",
    "\n",
    "<img src='MAZE002.png' width=\"400\" height=\"400\">\n",
    "\n",
    "<p style=\"margin-bottom:1cm;\"></p>\n",
    "\n",
    "The objective of the agent is twofold:\n",
    "\n",
    "   - 1) It has to find the exit (In a first approach, we won't take any step cost into account), while avoiding all the holes.\n",
    "\n",
    "   - 2) It has to collect all the batteries.\n",
    "\n",
    "\n",
    "\n",
    "##### Question 1.1. (5pts) A simple reflex agent \n",
    "\n",
    "Using a simple while loop and follow the ideas discussed during the recitations to code a simple reflex agent that achieves this objective. When the agent faces a pit, it should avoid it. When the agent is on a cell containing a battery, it should collect it. Finally the agent can only move in the four immediately adjacent cells to its current position. When it sees no pit and there are no batteries in any of the adjacent cells, it should move at random. Consider adding on the order of 14 batteries and 18 holes (first manually, then at random) \n"
   ]
  },
  {
   "cell_type": "code",
   "execution_count": 3,
   "metadata": {},
   "outputs": [
    {
     "ename": "AttributeError",
     "evalue": "'numpy.ndarray' object has no attribute 'where'",
     "output_type": "error",
     "traceback": [
      "\u001b[1;31m---------------------------------------------------------------------------\u001b[0m",
      "\u001b[1;31mAttributeError\u001b[0m                            Traceback (most recent call last)",
      "\u001b[1;32m<ipython-input-3-5bf51830e699>\u001b[0m in \u001b[0;36m<module>\u001b[1;34m\u001b[0m\n\u001b[0;32m     30\u001b[0m \u001b[1;33m\u001b[0m\u001b[0m\n\u001b[0;32m     31\u001b[0m \u001b[0mworld\u001b[0m \u001b[1;33m=\u001b[0m \u001b[0mworld\u001b[0m\u001b[1;33m.\u001b[0m\u001b[0mreshape\u001b[0m\u001b[1;33m(\u001b[0m\u001b[0mshape\u001b[0m\u001b[1;33m)\u001b[0m\u001b[1;33m\u001b[0m\u001b[1;33m\u001b[0m\u001b[0m\n\u001b[1;32m---> 32\u001b[1;33m \u001b[0mholes\u001b[0m \u001b[1;33m=\u001b[0m \u001b[0mworld\u001b[0m\u001b[1;33m.\u001b[0m\u001b[0mwhere\u001b[0m\u001b[1;33m(\u001b[0m\u001b[1;33m-\u001b[0m\u001b[1;36m1\u001b[0m\u001b[1;33m)\u001b[0m\u001b[1;33m\u001b[0m\u001b[1;33m\u001b[0m\u001b[0m\n\u001b[0m\u001b[0;32m     33\u001b[0m \u001b[0mbatteries\u001b[0m \u001b[1;33m=\u001b[0m \u001b[0mworld\u001b[0m\u001b[1;33m.\u001b[0m\u001b[0mwhere\u001b[0m\u001b[1;33m(\u001b[0m\u001b[1;36m1\u001b[0m\u001b[1;33m)\u001b[0m\u001b[1;33m\u001b[0m\u001b[1;33m\u001b[0m\u001b[0m\n\u001b[0;32m     34\u001b[0m \u001b[0mbatteries\u001b[0m\u001b[1;33m\u001b[0m\u001b[1;33m\u001b[0m\u001b[0m\n",
      "\u001b[1;31mAttributeError\u001b[0m: 'numpy.ndarray' object has no attribute 'where'"
     ]
    }
   ],
   "source": [
    "# generating the table\n",
    "\n",
    "shape = (12,12)\n",
    "size = shape[0]*shape[1]\n",
    "\n",
    "num_bat = 14\n",
    "num_holes = 18\n",
    "\n",
    "world = np.zeros(size)\n",
    "# it should not be 0, which would be the starting position. \n",
    "\n",
    "# generating the batteries and holes randomly.\n",
    "\n",
    "i = 0\n",
    "while i < num_bat:\n",
    "    pos = np.random.randint(0,size)\n",
    "    if world[pos] == 0:\n",
    "        world[pos] = 1\n",
    "        i += 1\n",
    "\n",
    "i = 0\n",
    "while i < num_holes:\n",
    "    pos = np.random.randint(1, size)\n",
    "    # the randint starts from 1 because the initial position cannot be a hole. \n",
    "    if world[pos] == 0:\n",
    "        world[pos] = -1\n",
    "        i += 1\n",
    "\n",
    "# -1 means there is a hole, +1 means there is a batteries. \n",
    "\n",
    "world = world.reshape(shape)\n",
    "holes = world.where(-1)\n",
    "batteries = world.where(1)\n",
    "batteries"
   ]
  },
  {
   "cell_type": "code",
   "execution_count": 35,
   "metadata": {},
   "outputs": [
    {
     "ename": "KeyboardInterrupt",
     "evalue": "",
     "output_type": "error",
     "traceback": [
      "\u001b[1;31m---------------------------------------------------------------------------\u001b[0m",
      "\u001b[1;31mKeyboardInterrupt\u001b[0m                         Traceback (most recent call last)",
      "\u001b[1;32m<ipython-input-35-e01f20352ae0>\u001b[0m in \u001b[0;36m<module>\u001b[1;34m\u001b[0m\n\u001b[0;32m      8\u001b[0m \u001b[1;33m\u001b[0m\u001b[0m\n\u001b[0;32m      9\u001b[0m \u001b[1;32mwhile\u001b[0m \u001b[0mlen\u001b[0m\u001b[1;33m(\u001b[0m\u001b[0mcollected\u001b[0m\u001b[1;33m)\u001b[0m \u001b[1;33m<\u001b[0m \u001b[0mnum_bat\u001b[0m \u001b[1;32mand\u001b[0m \u001b[0mcurr_pos\u001b[0m \u001b[1;33m!=\u001b[0m \u001b[0mend_pos\u001b[0m\u001b[1;33m:\u001b[0m\u001b[1;33m\u001b[0m\u001b[1;33m\u001b[0m\u001b[0m\n\u001b[1;32m---> 10\u001b[1;33m     \u001b[1;32mif\u001b[0m \u001b[0mworld\u001b[0m\u001b[1;33m[\u001b[0m\u001b[0mcurr_pos\u001b[0m\u001b[1;33m]\u001b[0m \u001b[1;33m==\u001b[0m \u001b[1;36m1\u001b[0m\u001b[1;33m:\u001b[0m\u001b[1;33m\u001b[0m\u001b[1;33m\u001b[0m\u001b[0m\n\u001b[0m\u001b[0;32m     11\u001b[0m         \u001b[0mcollected\u001b[0m\u001b[1;33m.\u001b[0m\u001b[0madd\u001b[0m\u001b[1;33m(\u001b[0m\u001b[0mcurr_pos\u001b[0m\u001b[1;33m)\u001b[0m\u001b[1;33m\u001b[0m\u001b[1;33m\u001b[0m\u001b[0m\n\u001b[0;32m     12\u001b[0m     \u001b[1;32melif\u001b[0m \u001b[0mworld\u001b[0m\u001b[1;33m[\u001b[0m\u001b[0mcurr_pos\u001b[0m\u001b[1;33m]\u001b[0m \u001b[1;33m==\u001b[0m \u001b[1;33m-\u001b[0m\u001b[1;36m1\u001b[0m\u001b[1;33m:\u001b[0m\u001b[1;33m\u001b[0m\u001b[1;33m\u001b[0m\u001b[0m\n",
      "\u001b[1;31mKeyboardInterrupt\u001b[0m: "
     ]
    }
   ],
   "source": [
    "# initial states\n",
    "collected = set()\n",
    "# this sets contains the collected batteries. \n",
    "end_pos = (shape[0]-1,shape[0]-1)\n",
    "start_pos = (0, 0)\n",
    "\n",
    "curr_pos = start_pos\n",
    "\n",
    "while len(collected) < num_bat and curr_pos != end_pos:\n",
    "    if world[curr_pos] == 1:\n",
    "        collected.add(curr_pos)\n",
    "    elif world[curr_pos] == -1:\n",
    "        raise Exception(\"In the holes\")\n",
    "    else: # world(curr_pos) == 0\n",
    "        x,y = curr_pos\n",
    "        possible_next_pos = []\n",
    "        \n",
    "        for xx in [x-1,x+1]:\n",
    "            if xx>= 0 and world[xx,y] != -1:\n",
    "                possible_next_pos.append((xx,y))\n",
    "        for yy in [y-1,y+1]:\n",
    "            if yy>= 0 and world[x,yy] != -1:\n",
    "                possible_next_pos.append((x,yy))\n",
    "        \n",
    "        if len(possible_next_pos) == 0:\n",
    "            raise Exception(\"No next steps to move\")\n",
    "        else:\n",
    "            for next_pos in possible_next_pos:\n",
    "                if world[next_pos] == 1 and next_pos not in collected:\n",
    "                    curr_pos = next_pos\n",
    "                    continue\n",
    "            curr_pos = possible_next_pos[np.random.choice(len(possible_next_pos))]\n"
   ]
  },
  {
   "cell_type": "code",
   "execution_count": 25,
   "metadata": {},
   "outputs": [
    {
     "name": "stdout",
     "output_type": "stream",
     "text": [
      "Help on built-in function choice:\n",
      "\n",
      "choice(...) method of numpy.random.mtrand.RandomState instance\n",
      "    choice(a, size=None, replace=True, p=None)\n",
      "    \n",
      "    Generates a random sample from a given 1-D array\n",
      "    \n",
      "    .. versionadded:: 1.7.0\n",
      "    \n",
      "    .. note::\n",
      "        New code should use the ``choice`` method of a ``default_rng()``\n",
      "        instance instead; please see the :ref:`random-quick-start`.\n",
      "    \n",
      "    Parameters\n",
      "    ----------\n",
      "    a : 1-D array-like or int\n",
      "        If an ndarray, a random sample is generated from its elements.\n",
      "        If an int, the random sample is generated as if a were np.arange(a)\n",
      "    size : int or tuple of ints, optional\n",
      "        Output shape.  If the given shape is, e.g., ``(m, n, k)``, then\n",
      "        ``m * n * k`` samples are drawn.  Default is None, in which case a\n",
      "        single value is returned.\n",
      "    replace : boolean, optional\n",
      "        Whether the sample is with or without replacement\n",
      "    p : 1-D array-like, optional\n",
      "        The probabilities associated with each entry in a.\n",
      "        If not given the sample assumes a uniform distribution over all\n",
      "        entries in a.\n",
      "    \n",
      "    Returns\n",
      "    -------\n",
      "    samples : single item or ndarray\n",
      "        The generated random samples\n",
      "    \n",
      "    Raises\n",
      "    ------\n",
      "    ValueError\n",
      "        If a is an int and less than zero, if a or p are not 1-dimensional,\n",
      "        if a is an array-like of size 0, if p is not a vector of\n",
      "        probabilities, if a and p have different lengths, or if\n",
      "        replace=False and the sample size is greater than the population\n",
      "        size\n",
      "    \n",
      "    See Also\n",
      "    --------\n",
      "    randint, shuffle, permutation\n",
      "    Generator.choice: which should be used in new code\n",
      "    \n",
      "    Notes\n",
      "    -----\n",
      "    Sampling random rows from a 2-D array is not possible with this function,\n",
      "    but is possible with `Generator.choice` through its ``axis`` keyword.\n",
      "    \n",
      "    Examples\n",
      "    --------\n",
      "    Generate a uniform random sample from np.arange(5) of size 3:\n",
      "    \n",
      "    >>> np.random.choice(5, 3)\n",
      "    array([0, 3, 4]) # random\n",
      "    >>> #This is equivalent to np.random.randint(0,5,3)\n",
      "    \n",
      "    Generate a non-uniform random sample from np.arange(5) of size 3:\n",
      "    \n",
      "    >>> np.random.choice(5, 3, p=[0.1, 0, 0.3, 0.6, 0])\n",
      "    array([3, 3, 0]) # random\n",
      "    \n",
      "    Generate a uniform random sample from np.arange(5) of size 3 without\n",
      "    replacement:\n",
      "    \n",
      "    >>> np.random.choice(5, 3, replace=False)\n",
      "    array([3,1,0]) # random\n",
      "    >>> #This is equivalent to np.random.permutation(np.arange(5))[:3]\n",
      "    \n",
      "    Generate a non-uniform random sample from np.arange(5) of size\n",
      "    3 without replacement:\n",
      "    \n",
      "    >>> np.random.choice(5, 3, replace=False, p=[0.1, 0, 0.3, 0.6, 0])\n",
      "    array([2, 3, 0]) # random\n",
      "    \n",
      "    Any of the above can be repeated with an arbitrary array-like\n",
      "    instead of just integers. For instance:\n",
      "    \n",
      "    >>> aa_milne_arr = ['pooh', 'rabbit', 'piglet', 'Christopher']\n",
      "    >>> np.random.choice(aa_milne_arr, 5, p=[0.5, 0.1, 0.1, 0.3])\n",
      "    array(['pooh', 'pooh', 'pooh', 'Christopher', 'piglet'], # random\n",
      "          dtype='<U11')\n",
      "\n"
     ]
    }
   ],
   "source": [
    "help(np.random.choice)"
   ]
  },
  {
   "cell_type": "markdown",
   "metadata": {},
   "source": [
    "##### Question 1.2. (5pts) Search agent\n",
    "\n",
    "We will now assume that our agent has a map of the world. On top of the pits from above, the world now also contains walls, which are additional obstacles in the search for the exit.\n",
    "\n",
    "Solve the problem using Breadth First search. The children of a node are given by the adjacent cells. Once you have the path to a battery, stores it. Then continue BFS from the location of this battery and store your second path,.... Proceed like this until you have all the batteries. From the last battery find the exit.  \n",
    "\n",
    "<img src='Maze003.png' width=\"400\" height=\"400\">\n",
    "\n",
    "<p style=\"margin-bottom:1cm;\"></p>\n",
    "\n"
   ]
  },
  {
   "cell_type": "code",
   "execution_count": null,
   "metadata": {},
   "outputs": [],
   "source": [
    "# put your code here\n",
    "\n"
   ]
  },
  {
   "cell_type": "markdown",
   "metadata": {},
   "source": [
    "##### Question 1.3. (5pts) Informed search agent\n",
    "\n",
    "In this third question, we will use an informed search strategy to improve our agent. We want to use as our heuristic the $\\ell_1$ distance to the closest battery that has not been picked. Code a Best First Search agent whose heuristic changes as it picks up new batteries. As soon as it picked up the last battery, the heuristic becomes the $\\ell_1$ distance to the exit. You can assume that the cells have unitary side length. Also recall that the $\\ell_1$ distance is given by $\\|\\boldsymbol x_1 - \\boldsymbol x_2\\|_1 = |x_{11} - x_{21}| + |x_{12} - x_{22}|$ where $\\boldsymbol x_1 = (x_{11}, x_{12})$, $\\boldsymbol x_{2} = (x_{21}, x_{22})$.    \n",
    "\n",
    "\n",
    "<img src='Maze003.png' width=\"400\" height=\"400\">\n",
    "\n",
    "<p style=\"margin-bottom:1cm;\"></p>\n",
    "\n"
   ]
  },
  {
   "cell_type": "code",
   "execution_count": null,
   "metadata": {},
   "outputs": [],
   "source": [
    "# put your code here\n",
    "\n"
   ]
  },
  {
   "cell_type": "markdown",
   "metadata": {},
   "source": [
    "##### Bonus (2pts) \n",
    "Generate and display the movie of the search for each of the questions above. "
   ]
  },
  {
   "cell_type": "code",
   "execution_count": null,
   "metadata": {},
   "outputs": [],
   "source": [
    "# put your code here\n",
    "\n",
    "\n"
   ]
  },
  {
   "cell_type": "markdown",
   "metadata": {},
   "source": [
    "### Question 2. Rook Jumping\n",
    "\n",
    "##### (12pts + 3pts)\n",
    "\n",
    "In this second question, we consider a \"rook jumping\" maze. An example of such a maze is given below (the starting position is shown in red and the goal position is shown in green). \n",
    "\n",
    "\n",
    "\n",
    "<img src='RookMaze001.png' width=\"350\" height=\"350\">\n",
    "\n",
    "Each state in the maze has an associated jump number that provides the exact number of cells one may move horizontally or vertically in a straight line to change state. As an example, in the maze above, the first move may either be 2 cells on the right of (0,0) or 2 cells down to (2,0)."
   ]
  },
  {
   "cell_type": "markdown",
   "metadata": {},
   "source": [
    "#### Question 2.1. Generate the maze (2pts)\n",
    "\n",
    "Start by completing the function Maze_generation which takes as argument the dimension of the maze as well as a maximum jump number (don't take it much larger than n/2) and returns a matrix of random integers between 0 and the maximum jump length. "
   ]
  },
  {
   "cell_type": "code",
   "execution_count": null,
   "metadata": {},
   "outputs": [],
   "source": [
    "import numpy as np\n",
    "import \n",
    "\n",
    "def Maze_generation(n):\n",
    "    \n",
    "    '''function should return a random maze'''\n",
    "    \n",
    "    \n",
    "    return maze\n",
    "    "
   ]
  },
  {
   "cell_type": "markdown",
   "metadata": {},
   "source": [
    "You can use the lines below to display your maze"
   ]
  },
  {
   "cell_type": "code",
   "execution_count": 12,
   "metadata": {},
   "outputs": [
    {
     "data": {
      "image/png": "[encoded data removed]",
      "text/plain": [
       "<Figure size 432x288 with 1 Axes>"
      ]
     },
     "metadata": {},
     "output_type": "display_data"
    }
   ],
   "source": [
    "import numpy as np\n",
    "import matplotlib.pyplot as plt\n",
    "\n",
    "fig, ax = plt.subplots()\n",
    "\n",
    "min_val, max_val = 0, 5\n",
    "\n",
    "intersection_matrix = np.random.randint(0, 5, size=(max_val, max_val))\n",
    "\n",
    "ax.matshow(intersection_matrix, cmap=plt.cm.Blues)\n",
    "\n",
    "for i in range(max_val):\n",
    "    for j in range(max_val):\n",
    "        c = intersection_matrix[j,i]\n",
    "        ax.text(i, j, str(c), va='center', ha='center')\n",
    "        \n",
    "        \n",
    "ax.set_xticks([]) \n",
    "ax.set_xticklabels([]) \n",
    "ax.set_yticks([]) \n",
    "ax.set_yticklabels([]) \n",
    "plt.show()"
   ]
  },
  {
   "cell_type": "markdown",
   "metadata": {},
   "source": [
    "##### Question 2.2. (5pts) Maze Evaluation\n",
    "\n",
    "We now want to solve the maze (or equivalently, make sure it has a solution)  \n",
    "\n",
    "Using _Breadth First Search_ (start with a reasonably small maze, e.g. 5 by 5), compute the minimum distance (depth number of moves) to each cell from the start cell (take the start cell to be the _uppermost leftmost_ cell). For this, keep track of a list of the depth distances to each node and update this list each time you encounter the corresponding node. Once BFS completed, return the minimum element from the list. \n",
    "\n",
    "Finally return the negative of the minimmum length of the path from the start to the goal and a large positive number (e.g. 1e6) if there is no such path.\n"
   ]
  },
  {
   "cell_type": "code",
   "execution_count": null,
   "metadata": {},
   "outputs": [],
   "source": [
    "def Maze_Evaluation(maze):\n",
    "    \n",
    "    '''The function takes a maze (random n x n array of integers)\n",
    "    and should return the the minimum \n",
    "    distances of the start node to the goal'''\n",
    "    \n",
    "    \n",
    "    # put your solution here\n",
    "    \n",
    "    \n",
    "    return dist_start2Goal\n",
    "\n"
   ]
  },
  {
   "cell_type": "markdown",
   "metadata": {},
   "source": [
    "##### Question 2.3. (5pts) Stochastic local search (Hill climbing)\n",
    "\n",
    "Now that we have a way of representing each maze, we will try to improve our maze with a stochastic local search. In this question, each state in our graph will encode a whole maze. Our local search algorithm will work as follows\n",
    "\n",
    "- For a random, non goal cell, change the jump number to a different random legal jump number\n",
    "\n",
    "- Re-evaluate the start to goal distance according to the _Maze_Evaluation_ function that you implemented in Question 2.2.\n",
    "\n",
    "- If the objective function has not increased, accept the change and store the new maze if its evaluation is the best evaluated so far. Otherwise, reject the change and revert the cell to its previous jump number\n",
    "\n",
    "Perform a few iterations of Stochastich HC and return the RJM with the best (minimum) objective function"
   ]
  },
  {
   "cell_type": "code",
   "execution_count": null,
   "metadata": {},
   "outputs": [],
   "source": [
    "def Maze_improvement(maze_init, maxIter):\n",
    "    \n",
    "    '''The function takes an initial Rook Jumping maze and \n",
    "    a maximum number of iterations as an input and returns \n",
    "    the improvement of the original maze obtained \n",
    "    through maxIter iteration of Stochastic Hill Descent'''\n",
    "    \n",
    "    \n",
    "    # put your code here\n",
    "    \n",
    "    \n",
    "    return \n",
    "    "
   ]
  },
  {
   "cell_type": "markdown",
   "metadata": {},
   "source": [
    "##### Bonus (3pts) Random Restart\n",
    "\n",
    "One problem with pure hill descent is that stochastic local search may become trapped in local minima. A possible escape strategy is to restart the search periodically. Another way of viewing this is that we iteratively perform pure hill descent, starting each descent at a random state. The end result is the best result from all descents.\n",
    "\n",
    "Add Random Restart to your 'Maze_improvement' function."
   ]
  },
  {
   "cell_type": "code",
   "execution_count": 2,
   "metadata": {},
   "outputs": [],
   "source": [
    "def Maze_improvement_RR(maze_init, max_iter_SHD, max_iter_RR):\n",
    "    \n",
    "    '''The function takes an initial (random) Rook Jumping maze and \n",
    "    a maximum number of iterations as an input and evaluates \n",
    "    the improvement of the original maze obtained \n",
    "    through max_iter_SHD iterations of Stochastic Hill Descent. \n",
    "    This process is repeated max_iter_RR times \n",
    "    (with different random initializations) and each of the \n",
    "    obtained solutions are stored. The max_iter_RR solutions are finally compared in \n",
    "    terms of the cost between the start and the goal node and \n",
    "    the best solution is returned as the final output'''\n",
    "    \n",
    "    \n",
    "    # put your code here\n",
    "    \n",
    "    \n",
    "    return "
   ]
  }
 ],
 "metadata": {
  "interpreter": {
   "hash": "2a2a38fe34f8f37488d0fdf5c77f21fdb0e5a36ddb8afaa78e21eb865cd1002a"
  },
  "kernelspec": {
   "display_name": "Python 3",
   "language": "python",
   "name": "python3"
  },
  "language_info": {
   "codemirror_mode": {
    "name": "ipython",
    "version": 3
   },
   "file_extension": ".py",
   "mimetype": "text/x-python",
   "name": "python",
   "nbconvert_exporter": "python",
   "pygments_lexer": "ipython3",
   "version": "3.8.8"
  }
 },
 "nbformat": 4,
 "nbformat_minor": 4
}
