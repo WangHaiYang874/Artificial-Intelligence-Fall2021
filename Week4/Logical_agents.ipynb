{
 "cells": [
  {
   "cell_type": "markdown",
   "metadata": {},
   "source": [
    "<h2><center>Artificial Intelligence: Logical Reasoning Agents (I)</center></h2>\n",
    "\n"
   ]
  },
  {
   "cell_type": "markdown",
   "metadata": {},
   "source": [
    "### Exercise 1. \n",
    "\n",
    "In this first exercise, we will discuss how to implement a simple propositional logic Knowledge Base\n",
    "\n",
    "\n",
    "##### Exercise 1.1. Logical Expressions\n",
    "\n",
    "Our logical expression will be of two kind. They will always be stored as objects, whose class is defined below"
   ]
  },
  {
   "cell_type": "code",
   "execution_count": null,
   "metadata": {},
   "outputs": [],
   "source": [
    "class Logical_Expr:\n",
    "    \n",
    "    def __init__(self, op, **args):\n",
    "        \n",
    "        self.operator = str(operator)\n",
    "        self.args = args"
   ]
  },
  {
   "cell_type": "markdown",
   "metadata": {},
   "source": [
    "But we will also want to encode them from strings. For this we will use the function string2LogicalExp below. Complete this function by returning nested Logical Expression that takes into account the operator precedence. As an example, for the string 'A & B ==> C' your function should return a first Logical Expression with op = '==>' and args = Logical_Expr('A & B') as well as Logical_Expr('C')"
   ]
  },
  {
   "cell_type": "code",
   "execution_count": null,
   "metadata": {},
   "outputs": [],
   "source": [
    "def string2LogicalExp(s):\n",
    "    \n",
    "    '''Complete the function by parsing the string s according to \n",
    "    the logical connectives. Make sure to use the operator precedence. \n",
    "    In particular when you consider a string of the form \n",
    "    (A & B ==> C) & D ==> E, the second implication (outside brackets)\n",
    "    should be treated first'''\n",
    "    \n",
    "    # start by treating the least important connectives, \n",
    "    # breaking the string in two parts where those connectives \n",
    "    # appear, then proceed like this recursively. You might want \n",
    "    # to remove all   \n",
    "    \n",
    "    \n",
    "    return LogicalOp"
   ]
  },
  {
   "cell_type": "markdown",
   "metadata": {},
   "source": [
    "##### Exercise 1.2. Evaluating your expressions (Part I)\n",
    "\n",
    "Complete the function 'evaluate_PL_expression' below. The function should return the logical value (True or False of the Propositional expression exp following from the model 'model')\n",
    "\n",
    " - 1 You should use a recursive formulation, splitting the proposition into subexpressions until those are empty\n",
    "\n",
    " - 2 You should encode the model as a dictionnary and use the corresponding 'get' function to access the boolean value of a symbol\n",
    " \n",
    "You will need the function below which checks if a variable is a PL symbol (string starting with an alphabetic char)\n"
   ]
  },
  {
   "cell_type": "code",
   "execution_count": null,
   "metadata": {},
   "outputs": [],
   "source": [
    "\n",
    "def is_PLsymbol(s)\n",
    "    \n",
    "    '''A string is a Propositional Symbol if it starts with an uppercase \n",
    "    alphabetic char e.g. is_symbol('R2D2') should return True'''\n",
    "    \n",
    "\n",
    "    return # complete\n",
    "\n",
    "\n",
    "\n",
    "def evaluate_PL_Expression(exp, model={})\n",
    "    \n",
    "    '''The function should return the evaluation from within the model. \n",
    "    It should return True if the Propositional sentence is true, \n",
    "    False if this sentence is False and None if the model does not \n",
    "    specify the value for some of the propositions'''\n",
    "\n",
    "        # complete with a recursion and call to the get \n",
    "        # function of the dictionnary\n",
    "    \n",
    "\n",
    "    return value_of_expression\n",
    "\n"
   ]
  },
  {
   "cell_type": "markdown",
   "metadata": {},
   "source": [
    "##### Exercise 1.3. Evaluating your expressions (Part II)\n",
    "\n",
    "Once you are done with the implementation of the 'evaluate_PL_Expression' function, try this function on a couple of Propositional Logic expressions and dictionnaries"
   ]
  },
  {
   "cell_type": "code",
   "execution_count": null,
   "metadata": {},
   "outputs": [],
   "source": [
    "# put your code here\n",
    "\n"
   ]
  },
  {
   "cell_type": "markdown",
   "metadata": {},
   "source": [
    "### Exercise 2. The Knowledge Base\n",
    "\n",
    "Now that we have a way to store and evaluate logical sentences, we will build our knowledge base. A propositional Knowledge base should contain an initialization function which sets the list of clauses to 0, a 'tell' function which adds a new sentence to the KB and a function 'ask' that checks whether the new sentence is entailed by the KB. The function 'ask' should return 'True' if the sentence is entailed and 'False' otherwise.\n",
    "\n",
    "To do this, proceed as follows. Using Expr, Start by returning a conjunction involving all the sentences from the knowledge base. Then define a function KB_entails that takes as inputs your query and the conjunction.\n",
    "\n",
    "##### Exercise 2.1. Checking entailment \n",
    "\n",
    "Recall that a complex inference (i.e. implication) sentence is valid if it is true in every row of the truth table corresponding to a possible state of the world.\n",
    "\n",
    "Start by completing the two functions below:\n",
    "\n",
    " - The 'KB_entails(kb, sentence)' shouod generate all the symbols appearing in the knowledge base KB (which we will represent as a single expression) and the consequent of the sentence we want to test \n",
    " - The 'KBcheck_all' should return True if the query sentence is true for every row in the Truth table for which the KB is true\n",
    " "
   ]
  },
  {
   "cell_type": "code",
   "execution_count": null,
   "metadata": {},
   "outputs": [],
   "source": [
    "\n",
    "\n",
    "def KBentails(kb, query_sentence):\n",
    "    \n",
    "    '''tt_entails(expr('P & Q'), expr('Q')) should return True'''\n",
    "       \n",
    "    symbols = # return all symbols\n",
    "    \n",
    "    return KBcheck_all(kb, query_sentence, symbols, {})\n",
    "\n",
    "\n",
    "def KBcheck_all(kb, query_sentence, symbols, model):\n",
    "    '''check whether the sentence 'query_sentence' of the implication \n",
    "    KB ==> query_sentence is True for every row in the Truth table for which all the \n",
    "    propositions in the KB are true.'''    \n",
    "    \n",
    "    # complete the function. Generate all the rows in the truth table. \n",
    "    # Then look at each row\n",
    "    "
   ]
  },
  {
   "cell_type": "markdown",
   "metadata": {},
   "source": [
    "##### Exercise 2.2. Defining the Knowledge Base\n",
    "\n",
    "Once you have the implementation for the entailment function, complete the class PropositionKnowledgeBase below by implementing the functions 'tell' and 'ask' "
   ]
  },
  {
   "cell_type": "code",
   "execution_count": null,
   "metadata": {},
   "outputs": [],
   "source": []
  },
  {
   "cell_type": "markdown",
   "metadata": {},
   "source": [
    "##### Exercise 2.3. Testing the knowledge base. \n",
    "\n",
    "Test your knowlege base with a couple of simple benchmarks such as for \n",
    "example such as for  'Socrates is a man' = True, \n",
    "'Every man is Mortal' = True, {'Socrates is a man' and 'Every man is Mortal' => 'Socrates is mortal' is true (all encoded in KB) and check that KB entails 'Socrates is mortal'\n",
    "\n",
    "Then check with 'I think' is true, 'I think => I am' is true (both of them included in KB) entails  'I am' is true.\n",
    "\n",
    "Try to find other examples.\n",
    "                              "
   ]
  },
  {
   "cell_type": "code",
   "execution_count": null,
   "metadata": {},
   "outputs": [],
   "source": [
    "# put your code here \n",
    "\n",
    "\n"
   ]
  },
  {
   "cell_type": "markdown",
   "metadata": {},
   "source": [
    "### Exercise 3. Completeness, Resolution and Conjunctive normal forms\n",
    "\n",
    "When deriving advanced proofs, we will be interested in a single inference rule known as __resolution__, that always yields a complete inference algorithm when coupled to any complete search algorithm. The resolution rule only applied to finite conjunction or disjunction of litterals. When we want to apply the resolution rule to do inference on general problems, we will thus need to convert every logical sentence into a conjunctive form. This can be done through the following steps:\n",
    "\n",
    "\n",
    "1. Eliminite the Equivalence $\\Leftrightarrow$ replacing $\\alpha \\Leftrightarrow\\beta$ with $(\\alpha \\Rightarrow \\beta)\\wedge (\\beta \\Rightarrow \\alpha)$\n",
    "2. Eliminate the Implication $\\Rightarrow$ with $\\lnot \\alpha \\vee \\beta$\n",
    "3. Conjunctive Normal forms require the $\\lnot$ to appear only inside each litteral so we move the $\\lnot$ inside by applying the following rules recursively\n",
    "\n",
    "    - $\\lnot(\\lnot \\alpha) \\equiv \\alpha$ (double negation elimination)\n",
    "    - $\\lnot(\\alpha\\wedge \\beta) \\equiv (\\lnot \\alpha \\vee \\lnot \\beta)$ (De Morgan)\n",
    "    - $\\lnot(\\alpha\\vee \\beta) \\equiv (\\lnot \\alpha \\wedge \\lnot \\beta)$ (De Morgan)    \n",
    "    \n",
    "4. From the rules above, we end up with a sentence combining $\\vee$ and $\\wedge$ connectives. To get a conjunctive form, we apply the distributive law as much as possible\n",
    "\n",
    "$$(\\alpha\\vee (\\beta\\wedge \\gamma)) = ((\\alpha\\vee \\beta)\\wedge (\\alpha\\vee \\gamma))$$\n",
    "\n",
    "\n",
    "For the particular example of the sentence $B_{1,1} \\Leftrightarrow (P_{1,2}\\vee P_{2,1})$ would give the following steps\n",
    "\n",
    "1. $(B_{1,1}\\Rightarrow (P_{1,2}\\vee P_{2,1})) \\wedge ((P_{1,2}\\vee P_{2,1})\\Rightarrow B_{1,1})$\n",
    "\n",
    "2. $(\\lnot B_{1,1}\\vee P_{1,2}\\vee P_{2,1})\\wedge (\\lnot(P_{1,2}\\vee P_{2,1})\\vee B_{1,1})$\n",
    "\n",
    "3. $(\\lnot B_{1,1} \\vee P_{1,2}\\vee P_{2,1}) \\wedge ((\\lnot P_{1,2}\\wedge \\lnot P_{2,1})\\vee B_{1,1})$\n",
    "\n",
    "4. Finally we have $(\\lnot B_{1,1}\\vee P_{1,2}\\vee P_{2,1})\\wedge (\\lnot P_{1,2}\\vee B_{1,1}) \\wedge (\\lnot P_{2,1}\\vee B_{1,1})$"
   ]
  },
  {
   "cell_type": "code",
   "execution_count": null,
   "metadata": {},
   "outputs": [],
   "source": [
    "def string2ConjunctiveNormalFrom(s):\n",
    "    \n",
    "    '''the function should take as input a complex propositional sentence and return \n",
    "    a conjunctive normal form'''\n",
    "    \n",
    "    \n",
    "    # put your code here \n",
    "    \n",
    "    \n",
    "    return s2"
   ]
  }
 ],
 "metadata": {
  "kernelspec": {
   "display_name": "Python 3",
   "language": "python",
   "name": "python3"
  },
  "language_info": {
   "codemirror_mode": {
    "name": "ipython",
    "version": 3
   },
   "file_extension": ".py",
   "mimetype": "text/x-python",
   "name": "python",
   "nbconvert_exporter": "python",
   "pygments_lexer": "ipython3",
   "version": "3.8.5"
  }
 },
 "nbformat": 4,
 "nbformat_minor": 4
}
