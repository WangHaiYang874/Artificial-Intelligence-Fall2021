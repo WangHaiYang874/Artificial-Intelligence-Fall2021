{
 "cells": [
  {
   "cell_type": "markdown",
   "metadata": {},
   "source": [
    "## Artificial Intelligence, Part II: Learning\n",
    "\n",
    "Today we will continue the discussion on the learning part of the course. We will study how the linear model can be used to learn a mapping on data that was non linerly generated. We will illustrate regularization and classification.\n",
    "\n",
    "For those who are taking the ML course in parallel you can jump directly to exercise 4 below. "
   ]
  },
  {
   "cell_type": "markdown",
   "metadata": {},
   "source": [
    "### 0. Decision tree\n",
    "\n",
    "__Part I.__ The dataset below was generated from two classes (a True and False one) in a 9 attributes. Using the 100 examples from this dataset and computing the entropy gain to order the nodes, we would like to build a binary decision tree (the decision being stored in y). Since the attributes are continuous, we will proceed as follows. For each attribute, compute the minimum and maximum possible value for the attribute. Then define the bins for that attribute to be $[x_{\\max} - x_{\\min}]/5$ (that is to say we will consider 5 bins)"
   ]
  },
  {
   "cell_type": "code",
   "execution_count": 14,
   "metadata": {},
   "outputs": [],
   "source": [
    "from sklearn.datasets import make_classification\n",
    "import numpy as np\n",
    "\n",
    "X, y = make_classification(n_features=9, n_redundant=0, n_informative=9,\n",
    "                             n_clusters_per_class=1, n_classes=2)\n",
    "\n",
    "data = X[0]"
   ]
  },
  {
   "cell_type": "markdown",
   "metadata": {},
   "source": [
    "__Part II.__ In this second part we will use the decision tree implementation of scikit learn to learn a diabetes model based on a series of 8 features given in the table 'col_names' below. Start by loading the csv file from [Kaggle](https://www.kaggle.com/kumargh/pimaindiansdiabetescsv)"
   ]
  },
  {
   "cell_type": "code",
   "execution_count": 15,
   "metadata": {},
   "outputs": [],
   "source": [
    "# Load libraries\n",
    "import pandas as pd\n",
    "from sklearn.tree import DecisionTreeClassifier # Import Decision Tree Classifier\n",
    "from sklearn.model_selection import train_test_split # Import train_test_split function\n",
    "from sklearn import metrics #Import scikit-learn metrics module for accuracy calculation"
   ]
  },
  {
   "cell_type": "code",
   "execution_count": 45,
   "metadata": {},
   "outputs": [
    {
     "data": {
      "text/plain": [
       "(0.765625, 0.6935483870967742)"
      ]
     },
     "execution_count": 45,
     "metadata": {},
     "output_type": "execute_result"
    }
   ],
   "source": [
    "col_names = ['pregnant', 'glucose', 'bp', 'skin', 'insulin', 'bmi', 'pedigree', 'age', 'label']\n",
    "# load dataset\n",
    "pima = pd.read_csv(\"pima-indians-diabetes.csv\", header=None, names=col_names)\n",
    "\n",
    "# learn the decision tree\n",
    "#TODO\n",
    "\n",
    "X_train, X_test, Y_train, Y_test = train_test_split(\n",
    "    pima[col_names[:-1]], pima['label'],\n",
    "    random_state=1)\n",
    "    \n",
    "clf = DecisionTreeClassifier(max_depth=5,random_state=0)\n",
    "clf.fit(X_train,Y_train)\n",
    "\n",
    "\n",
    "metrics.accuracy_score(Y_test, clf.predict(\n",
    "    X_test)), metrics.precision_score(Y_test, clf.predict(X_test))"
   ]
  },
  {
   "cell_type": "markdown",
   "metadata": {},
   "source": [
    "You can finally use the lines below to display the decision tree\n"
   ]
  },
  {
   "cell_type": "code",
   "execution_count": 51,
   "metadata": {},
   "outputs": [
    {
     "name": "stdout",
     "output_type": "stream",
     "text": [
      "Help on function plot_tree in module sklearn.tree._export:\n",
      "\n",
      "plot_tree(decision_tree, *, max_depth=None, feature_names=None, class_names=None, label='all', filled=False, impurity=True, node_ids=False, proportion=False, rotate='deprecated', rounded=False, precision=3, ax=None, fontsize=None)\n",
      "    Plot a decision tree.\n",
      "    \n",
      "    The sample counts that are shown are weighted with any sample_weights that\n",
      "    might be present.\n",
      "    \n",
      "    The visualization is fit automatically to the size of the axis.\n",
      "    Use the ``figsize`` or ``dpi`` arguments of ``plt.figure``  to control\n",
      "    the size of the rendering.\n",
      "    \n",
      "    Read more in the :ref:`User Guide <tree>`.\n",
      "    \n",
      "    .. versionadded:: 0.21\n",
      "    \n",
      "    Parameters\n",
      "    ----------\n",
      "    decision_tree : decision tree regressor or classifier\n",
      "        The decision tree to be plotted.\n",
      "    \n",
      "    max_depth : int, default=None\n",
      "        The maximum depth of the representation. If None, the tree is fully\n",
      "        generated.\n",
      "    \n",
      "    feature_names : list of strings, default=None\n",
      "        Names of each of the features.\n",
      "        If None, generic names will be used (\"X[0]\", \"X[1]\", ...).\n",
      "    \n",
      "    class_names : list of str or bool, default=None\n",
      "        Names of each of the target classes in ascending numerical order.\n",
      "        Only relevant for classification and not supported for multi-output.\n",
      "        If ``True``, shows a symbolic representation of the class name.\n",
      "    \n",
      "    label : {'all', 'root', 'none'}, default='all'\n",
      "        Whether to show informative labels for impurity, etc.\n",
      "        Options include 'all' to show at every node, 'root' to show only at\n",
      "        the top root node, or 'none' to not show at any node.\n",
      "    \n",
      "    filled : bool, default=False\n",
      "        When set to ``True``, paint nodes to indicate majority class for\n",
      "        classification, extremity of values for regression, or purity of node\n",
      "        for multi-output.\n",
      "    \n",
      "    impurity : bool, default=True\n",
      "        When set to ``True``, show the impurity at each node.\n",
      "    \n",
      "    node_ids : bool, default=False\n",
      "        When set to ``True``, show the ID number on each node.\n",
      "    \n",
      "    proportion : bool, default=False\n",
      "        When set to ``True``, change the display of 'values' and/or 'samples'\n",
      "        to be proportions and percentages respectively.\n",
      "    \n",
      "    rotate : bool, default=False\n",
      "        This parameter has no effect on the matplotlib tree visualisation and\n",
      "        it is kept here for backward compatibility.\n",
      "    \n",
      "        .. deprecated:: 0.23\n",
      "           ``rotate`` is deprecated in 0.23 and will be removed in 1.0\n",
      "           (renaming of 0.25).\n",
      "    \n",
      "    rounded : bool, default=False\n",
      "        When set to ``True``, draw node boxes with rounded corners and use\n",
      "        Helvetica fonts instead of Times-Roman.\n",
      "    \n",
      "    precision : int, default=3\n",
      "        Number of digits of precision for floating point in the values of\n",
      "        impurity, threshold and value attributes of each node.\n",
      "    \n",
      "    ax : matplotlib axis, default=None\n",
      "        Axes to plot to. If None, use current axis. Any previous content\n",
      "        is cleared.\n",
      "    \n",
      "    fontsize : int, default=None\n",
      "        Size of text font. If None, determined automatically to fit figure.\n",
      "    \n",
      "    Returns\n",
      "    -------\n",
      "    annotations : list of artists\n",
      "        List containing the artists for the annotation boxes making up the\n",
      "        tree.\n",
      "    \n",
      "    Examples\n",
      "    --------\n",
      "    >>> from sklearn.datasets import load_iris\n",
      "    >>> from sklearn import tree\n",
      "    \n",
      "    >>> clf = tree.DecisionTreeClassifier(random_state=0)\n",
      "    >>> iris = load_iris()\n",
      "    \n",
      "    >>> clf = clf.fit(iris.data, iris.target)\n",
      "    >>> tree.plot_tree(clf)  # doctest: +SKIP\n",
      "    [Text(251.5,345.217,'X[3] <= 0.8...\n",
      "\n"
     ]
    }
   ],
   "source": []
  },
  {
   "cell_type": "code",
   "execution_count": 2,
   "metadata": {},
   "outputs": [
    {
     "ename": "NameError",
     "evalue": "name 'clf' is not defined",
     "output_type": "error",
     "traceback": [
      "\u001b[1;31m---------------------------------------------------------------------------\u001b[0m",
      "\u001b[1;31mNameError\u001b[0m                                 Traceback (most recent call last)",
      "\u001b[1;32m<ipython-input-2-303f0db2e467>\u001b[0m in \u001b[0;36m<module>\u001b[1;34m\u001b[0m\n\u001b[0;32m      4\u001b[0m \u001b[1;33m\u001b[0m\u001b[0m\n\u001b[0;32m      5\u001b[0m \u001b[0mplt\u001b[0m\u001b[1;33m.\u001b[0m\u001b[0mfigure\u001b[0m\u001b[1;33m(\u001b[0m\u001b[0mfigsize\u001b[0m\u001b[1;33m=\u001b[0m\u001b[1;33m(\u001b[0m\u001b[1;36m30\u001b[0m\u001b[1;33m,\u001b[0m\u001b[1;36m50\u001b[0m\u001b[1;33m)\u001b[0m\u001b[1;33m)\u001b[0m\u001b[1;33m\u001b[0m\u001b[1;33m\u001b[0m\u001b[0m\n\u001b[1;32m----> 6\u001b[1;33m \u001b[0mplot_tree\u001b[0m\u001b[1;33m(\u001b[0m\u001b[0mclf\u001b[0m\u001b[1;33m)\u001b[0m\u001b[1;33m\u001b[0m\u001b[1;33m\u001b[0m\u001b[0m\n\u001b[0m\u001b[0;32m      7\u001b[0m \u001b[0mplt\u001b[0m\u001b[1;33m.\u001b[0m\u001b[0mshow\u001b[0m\u001b[1;33m(\u001b[0m\u001b[1;33m)\u001b[0m\u001b[1;33m\u001b[0m\u001b[1;33m\u001b[0m\u001b[0m\n",
      "\u001b[1;31mNameError\u001b[0m: name 'clf' is not defined"
     ]
    },
    {
     "data": {
      "text/plain": [
       "<Figure size 2160x3600 with 0 Axes>"
      ]
     },
     "metadata": {},
     "output_type": "display_data"
    }
   ],
   "source": [
    "import matplotlib.pyplot as plt\n",
    "\n",
    "from sklearn.tree import DecisionTreeClassifier, plot_tree\n",
    "\n",
    "plt.figure(figsize=(30,50))\n",
    "plot_tree(clf)\n",
    "plt.show()\n"
   ]
  },
  {
   "cell_type": "markdown",
   "metadata": {},
   "source": [
    "### 1. Linear regression on non linearly distributed data\n",
    "\n",
    "Recall that the general linear regression model in the univariate case reads as\n",
    "\n",
    "$$y(x) = \\beta_0 + \\beta_1 x$$\n",
    "\n",
    "\n",
    "In previous sessions we saw how to code gradient descent an used it to learn a linear regression model on linear data.\n",
    "\n",
    "Consider the dataset below which was generated by the function $f(x) = x^2 + x +1$. Although the function is non linear, linear regression can still be used to learn the distribution of the data. From the original set of examples $\\left\\{\\mathbf{x}^{(i)}, t^{(i)}\\right\\}$ where $\\mathbf{x}^{(i)}$ are the feature vectors and feedback the agent gets, one can consider instead of $\\mathbf{x}^{(i)}$, the extended vector $(\\mathbf{x}^{(i)}, (\\mathbf{x}^{(i)})^2)$ and learn a _multivariate_ regression model of the form \n",
    "\n",
    "$$y(x) = \\beta_0 + \\beta_1x_1 + \\beta_2 x_2$$\n",
    "\n",
    "on the examples $(x^{(i)}, (x^{(i)})^2)$. That is we keep a linear model but now the model is defined on an extended set of attributes/features including higher powers of the original attributes.\n",
    "\n",
    "We can do this because the model does not have to know that we hide non linearity in the new features. The agent sees the new features and learn a model on those features not knowing what is hidden in those features. \n",
    "\n",
    "Once we have learned the model $y(x) = \\beta_0 + \\beta_1 x + \\beta_2 x^2$, we can recover the quandratic function by taking any new sample $x^*$, squaring $x^*$ and getting y as $\\beta_0 + \\beta_1 x^* + \\beta_2 (x^*)^2$. "
   ]
  },
  {
   "cell_type": "code",
   "execution_count": 54,
   "metadata": {},
   "outputs": [
    {
     "data": {
      "image/png": "[encoded data removed]",
      "text/plain": [
       "<Figure size 432x288 with 1 Axes>"
      ]
     },
     "metadata": {
      "needs_background": "light"
     },
     "output_type": "display_data"
    }
   ],
   "source": [
    "import numpy as np\n",
    "import matplotlib.pyplot as plt\n",
    "\n",
    "\n",
    "np.random.seed(1)\n",
    "\n",
    "xi = np.linspace(-1,1,20)\n",
    "noise = np.random.normal(0,0.05,20)\n",
    "\n",
    "ti = (xi-1)*(xi+1) \n",
    "tinoisy = ti+noise\n",
    "\n",
    "plt.scatter(xi,tinoisy, c = 'r')\n",
    "#plt.plot(np.linspace(-1,1,100), (np.linspace(-1,1,100)-1)*(np.linspace(-1,1,100)+1) )\n",
    "plt.show()\n",
    "\n"
   ]
  },
  {
   "cell_type": "markdown",
   "metadata": {},
   "source": [
    "The linear regression model can be learned from scratch through gradient descent but it can also be learned via the scikit-learned library. The linear_regression model from scikit learn comes with the functions fit and predict. Fit is used to learn the weights of the model, predict is used to predict the value of the model at a new point. \n",
    "\n",
    "Once the model has been learned, it is possible to represent the corresponding plane in the space $(y, x_1, x_2)$. This shows that if it is not possible to learn a linear model in the original space, it is possible to lift the data in a higher dimensional space and learn a linear model in this space. \n",
    "\n",
    "Once the plane has been learned, we can use it to get the value at any new point $x^{(i)}$ by getting the pair $(x^{(i)},(x^{(i)})^2)$, obtain $y$ from the plane, and bring back this value back in the original space. \n"
   ]
  },
  {
   "cell_type": "code",
   "execution_count": 74,
   "metadata": {},
   "outputs": [
    {
     "data": {
      "text/plain": [
       "LinearRegression()"
      ]
     },
     "execution_count": 74,
     "metadata": {},
     "output_type": "execute_result"
    }
   ],
   "source": [
    "from sklearn.linear_model import LinearRegression\n",
    "\n",
    "'''Using the function linear_regression from scikit learn, fit the linear model \n",
    "to the extedned feature vector. Then plot the result on top of the data''' \n",
    "\n",
    "lreg = LinearRegression()\n",
    "\n",
    "X = np.array([xi, xi.__pow__(2)]).T\n",
    "\n",
    "lreg.fit(X, tinoisy)"
   ]
  },
  {
   "cell_type": "code",
   "execution_count": 75,
   "metadata": {},
   "outputs": [
    {
     "data": {
      "text/plain": [
       "<matplotlib.collections.PathCollection at 0x1e8e7319310>"
      ]
     },
     "execution_count": 75,
     "metadata": {},
     "output_type": "execute_result"
    },
    {
     "data": {
      "image/png": "[encoded data removed]",
      "text/plain": [
       "<Figure size 432x288 with 1 Axes>"
      ]
     },
     "metadata": {
      "needs_background": "light"
     },
     "output_type": "display_data"
    }
   ],
   "source": [
    "plt.scatter(X.T[0], lreg.predict(X))\n",
    "plt.scatter(xi, ti)"
   ]
  },
  {
   "cell_type": "markdown",
   "metadata": {},
   "source": [
    "### 2 Closed form\n",
    "\n",
    "We will now use the matrix equations to solve for the weight vector. Stack all the feature/attribute vector as the rows of the matrix $X$ then solve for the weight vector using the expression $\\mathbf{\\beta}^*= (\\mathbf{X}^T\\mathbf{X})^{-1}\\mathbf{X}^T\\mathbf{y}$\n",
    "\n",
    "I have doubt about the equation, for the fact that the X and y are determined already, how could it become weight? "
   ]
  },
  {
   "cell_type": "code",
   "execution_count": 87,
   "metadata": {},
   "outputs": [],
   "source": [
    "import numpy as np\n",
    "weight = np.matmul(np.linalg.inv(np.matmul(X.T,X)), np.matmul(X.T, tinoisy))"
   ]
  },
  {
   "cell_type": "markdown",
   "metadata": {},
   "source": [
    "### 3. Overfitting \n",
    "\n",
    "Consider the same dataset as above, scikit learn also provide a function 'PolynomialFeatures' which can be used to generate additional powers from a some original set of features. We will use this function to change the complexity of our model and plot the result. "
   ]
  },
  {
   "cell_type": "code",
   "execution_count": 88,
   "metadata": {},
   "outputs": [
    {
     "data": {
      "image/png": "[encoded data removed]",
      "text/plain": [
       "<Figure size 432x288 with 1 Axes>"
      ]
     },
     "metadata": {
      "needs_background": "light"
     },
     "output_type": "display_data"
    }
   ],
   "source": [
    "import numpy as np\n",
    "import matplotlib.pyplot as plt\n",
    "from sklearn.preprocessing import PolynomialFeatures\n",
    "\n",
    "\n",
    "np.random.seed(1)\n",
    "\n",
    "xi = np.linspace(-1,1,10)\n",
    "noise = np.random.normal(0,0.05,10)\n",
    "\n",
    "ti = (xi-1)*(xi+1) \n",
    "tinoisy = ti+noise\n",
    "\n",
    "plt.scatter(xi,tinoisy, c = 'r')\n",
    "plt.plot(np.linspace(-1,1,100), (np.linspace(-1,1,100)-1)*(np.linspace(-1,1,100)+1) )\n",
    "plt.show()\n",
    "\n"
   ]
  },
  {
   "cell_type": "markdown",
   "metadata": {},
   "source": [
    "### 4. Regularization.\n",
    "\n",
    "\n",
    "On top of the LinearRegression model, scikit learn also provides models for the sum of squares and sum of absolute values penalties on the weights. Those two regularized models are respectively known as Ridge Regression and LASSO. We will use those models with multivariate linear model so see how they can reduce the amount of overfitting "
   ]
  },
  {
   "cell_type": "code",
   "execution_count": 89,
   "metadata": {},
   "outputs": [],
   "source": [
    "from sklearn.linear_model import Ridge\n",
    "from sklearn.linear_model import Lasso\n",
    "\n"
   ]
  },
  {
   "cell_type": "markdown",
   "metadata": {},
   "source": [
    "### 5. Classification.\n",
    "\n",
    "\n",
    "The linear model can be used to learn classification boundaries as well. When considering $K$ classes, we can just define our attribute/feature vectors as $K$ dimensional vectors whose $k^{th}$ attribute/feature is $1$ if the point belongs to class $\\mathcal{C}_k$ and $0$ otherwise. We can then minimize the sum of residual as in the regression case \n",
    "\n",
    "$$\\min_{\\mathbf{\\beta }} \\sum_{i=1}^N \\left(y^{(i)} - (\\beta_0 + \\beta_1 x_1^{(i)} + \\beta_2 x^{(i)}_2)\\right)^2$$\n",
    "\n",
    "For any plane, note that the equation of the plane $\\beta_0 + \\beta_1 x_1 + \\beta_2 x_2 = 0$ gives the points that are lying on the plane. A point above the plane will return a positive value for $\\beta_0 + \\beta_1 x_1 + \\beta_2 x_2$ and a point below will return a negative value for $\\beta_0 + \\beta_1 x_1 + \\beta_2 x_2$. \n",
    "\n",
    "The minimization problem above will then find the plane that gives the larger values to the points with targets/labels $1$ and the smallest values (or even possible negative values) to the points with targets $0$.\n",
    "\n",
    "In particular our plane (i.e. the points satisfying the equation $\\beta_0 + \\beta_1 x_1 + \\beta_2 x_2 = 0$) should thus located in between the two classes. \n",
    "\n",
    "\n",
    "Using this idea we will learn a classifier for the dataset below. "
   ]
  },
  {
   "cell_type": "code",
   "execution_count": 7,
   "metadata": {},
   "outputs": [
    {
     "data": {
      "image/png": "[encoded data removed]",
      "text/plain": [
       "<Figure size 432x288 with 1 Axes>"
      ]
     },
     "metadata": {
      "needs_background": "light"
     },
     "output_type": "display_data"
    }
   ],
   "source": [
    "from sklearn.datasets import make_blobs\n",
    "from matplotlib.colors import ListedColormap\n",
    "cm = plt.cm.RdBu\n",
    "cm_bright = ListedColormap(['#FF0000', '#0000FF'])\n",
    "\n",
    "X, y = make_blobs(n_samples=70, centers=2, n_features=2, random_state=0)\n",
    "\n",
    "plt.scatter(X[:,0], X[:,1], c = y, cmap = cm_bright)\n",
    "plt.show()"
   ]
  },
  {
   "cell_type": "markdown",
   "metadata": {},
   "source": [
    "### 5. Multiple labels \n",
    "\n",
    "The idea above can be extended to a multiclass classification problem by introducing a vector of targets. For a three classes problem like below, we can associate to each point a vector of size $3$ such that $t_k = 1$ if $x^{(i)}$ belongs to class $\\mathcal{C}_k$ and $0$ otherwise. A training point in class $\\mathcal{C}_1$ is thus given the target $(1,0,0)$. The LinearRegression model can be used with $d$ dimensional targets and we can thus use it to learn our multiclass classifier. "
   ]
  },
  {
   "cell_type": "code",
   "execution_count": 8,
   "metadata": {},
   "outputs": [
    {
     "data": {
      "image/png": "[encoded data removed]",
      "text/plain": [
       "<Figure size 432x288 with 1 Axes>"
      ]
     },
     "metadata": {
      "needs_background": "light"
     },
     "output_type": "display_data"
    }
   ],
   "source": [
    "from sklearn.datasets import make_blobs\n",
    "from matplotlib.colors import ListedColormap\n",
    "\n",
    "from sklearn.linear_model import LinearRegression\n",
    "\n",
    "cm = plt.cm.RdBu\n",
    "\n",
    "X, y = make_blobs(n_samples=70, centers=3, n_features=2, random_state=0)\n",
    "\n",
    "plt.scatter(X[:,0], X[:,1], c = y)\n",
    "plt.show()"
   ]
  },
  {
   "cell_type": "markdown",
   "metadata": {},
   "source": [
    "### 6. Hard threshold and Perceptron \n",
    "\n",
    "Instead of classifying our points by first learning a plane via a minimization of the $\\ell_2$ loss and then discriminating between classes by looking at the value of the prediction, one could add a threshold function on top of the linear model, defining our hypothesis as \n",
    "\n",
    "$$h_{\\mathbf{\\beta}}(\\mathbf{x}) = \\text{f}(\\mathbf{\\beta }^T\\mathbf{x})$$\n",
    "\n",
    "where $f(a)$ is defined as $f(a) = +1$ if $a\\geq 0$ and $-1$ otherwise. In such a framework, we can then define the error as \n",
    "\n",
    "$$E_P(\\mathbf{\\beta }) = -\\sum_{i\\in \\mathcal{M}}(\\tilde{\\mathbf{\\beta}}^T\\mathbf{x}^{(i)})t^{(i)}$$\n",
    "\n",
    "$\\mathcal{M}$ representing the misclassified points. We can then apply stochastic gradient descent on this cost, getting iterates \n",
    "\n",
    "$$\\mathbf{\\beta}\\leftarrow \\mathbf{\\beta} - \\eta \\nabla E_P(\\mathbf{\\beta}) = \\mathbf{\\beta}+\\eta \\mathbf{x}^{(i)}t^{(i)}$$\n",
    "\n",
    "Implement those steps below."
   ]
  },
  {
   "cell_type": "code",
   "execution_count": 9,
   "metadata": {},
   "outputs": [],
   "source": [
    "from scipy.io import loadmat\n",
    "pointsClass1 = loadmat('Perceptron_Class1')['Perceptron_Class1']\n",
    "pointsClass2 = loadmat('Perceptron_Class2')['Perceptron_Class2']\n"
   ]
  },
  {
   "cell_type": "markdown",
   "metadata": {},
   "source": [
    "### 7.  Logistic regression \n",
    "\n",
    "\n",
    "#### 7.1. Scikit learn\n",
    "\n",
    "Another problem with the simple LS classifier is that it can return large values for points that are located far from the decision boundary. With the points given below we will compare the output of the simple least squares classifier and the logistic regression model below.\n",
    "\n"
   ]
  },
  {
   "cell_type": "code",
   "execution_count": 10,
   "metadata": {},
   "outputs": [],
   "source": [
    "from scipy.io import loadmat\n",
    "pointsClass1 = loadmat('Xclass1LR')['Xclass1LR']\n",
    "pointsClass2 = loadmat('Xclass2LR')['Xclass2LR']\n"
   ]
  },
  {
   "cell_type": "markdown",
   "metadata": {},
   "source": [
    "#### 7.2. From scratch\n",
    "\n",
    "Using the data below, we can also get the separating plane through gradient descent. Implement this idea and plot the resulting boundary"
   ]
  },
  {
   "cell_type": "code",
   "execution_count": 11,
   "metadata": {},
   "outputs": [],
   "source": [
    "from scipy.io import loadmat\n",
    "pointsClass1 = loadmat('Perceptron_Class1')['Perceptron_Class1']\n",
    "pointsClass2 = loadmat('Perceptron_Class2')['Perceptron_Class2']"
   ]
  },
  {
   "cell_type": "markdown",
   "metadata": {},
   "source": [
    "### 8. Complex data \n",
    "\n",
    "\n",
    "When no intuition is known on the data distribution, and/or the data is complex (such as images or sounds), an alternative to generating a lot of polynomial features and combining those features with a regularization is to learn the classification through a neural network. Scikit learn comes with a variety of datasets that can be used as benchmarks for classification problems. "
   ]
  },
  {
   "cell_type": "code",
   "execution_count": 12,
   "metadata": {},
   "outputs": [
    {
     "data": {
      "image/png": "[encoded data removed]",
      "text/plain": [
       "<Figure size 432x288 with 1 Axes>"
      ]
     },
     "metadata": {
      "needs_background": "light"
     },
     "output_type": "display_data"
    }
   ],
   "source": [
    "from sklearn.datasets import make_moons, make_circles, make_classification\n",
    "from matplotlib.colors import ListedColormap\n",
    "from sklearn.model_selection import train_test_split\n",
    "\n",
    "dataset =  make_circles(n_samples = 200, noise=0.2, factor=0.5, random_state=1)\n",
    "X, y = dataset\n",
    "X_train, X_test, y_train, y_test = \\\n",
    "        train_test_split(X, y, test_size=.4, random_state=42)\n",
    "        \n",
    "cm = plt.cm.RdBu\n",
    "cm_bright = ListedColormap(['#FF0000', '#0000FF'])\n",
    "\n",
    "plt.scatter(X_train[:, 0], X_train[:, 1], c=y_train, cmap=cm_bright)\n",
    "plt.show()"
   ]
  }
 ],
 "metadata": {
  "interpreter": {
   "hash": "e5a57e6a0fff65a3cf8e883a96b5f368cce5f21728a5de1a27a73d0fde883690"
  },
  "kernelspec": {
   "display_name": "Python 3.8.8 64-bit",
   "name": "python3"
  },
  "language_info": {
   "codemirror_mode": {
    "name": "ipython",
    "version": 3
   },
   "file_extension": ".py",
   "mimetype": "text/x-python",
   "name": "python",
   "nbconvert_exporter": "python",
   "pygments_lexer": "ipython3",
   "version": "3.8.8"
  }
 },
 "nbformat": 4,
 "nbformat_minor": 2
}
