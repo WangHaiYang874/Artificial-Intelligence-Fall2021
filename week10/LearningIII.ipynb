{
 "cells": [
  {
   "cell_type": "markdown",
   "metadata": {},
   "source": [
    "## <center>NYU CSCI-UA 9472 Artificial Intelligence </center>\n",
    "   ### <center> Learning (Part II)</center>\n",
    "\n",
    "<center>This week we will review some of the unsupervised learning models. Starting with the A priori algorithm, we will see how one can predict the probability of having customers simultaneously purchasing particular items from a grocery store or super market. We will then implement K-means and K-medoid and study how to determine the optimal value for K through the elbow method. We will implement the main Hierarchical clustering algorithms. Finally we will apply those algorithms to image segmentation and community detection.</center>"
   ]
  },
  {
   "cell_type": "markdown",
   "metadata": {},
   "source": [
    "\n",
    "### Part I: Kernels and SVM\n",
    "\n",
    "\n",
    "##### Exercise 1.1. A linear classifier\n",
    "\n",
    "Consider the dataset given below. Start by learning a linear classifier for this dataset by minimizing the RSS criterion. "
   ]
  },
  {
   "cell_type": "code",
   "execution_count": null,
   "metadata": {},
   "outputs": [
    {
     "data": {
      "image/png": "[encoded data removed]",
      "text/plain": [
       "<Figure size 432x288 with 1 Axes>"
      ]
     },
     "metadata": {
      "needs_background": "light"
     },
     "output_type": "display_data"
    }
   ],
   "source": [
    "import scipy.io\n",
    "import matplotlib.pyplot as plt\n",
    "\n",
    "mat1 = scipy.io.loadmat('cluster_1.mat')['cluster_1']\n",
    "mat2 = scipy.io.loadmat('cluster_2.mat')['cluster_2']\n",
    "\n",
    "plt.scatter(mat1[:,0], mat1[:,1], c='b')\n",
    "plt.scatter(mat2[:,0], mat2[:,1], c='r')\n",
    "plt.show()"
   ]
  },
  {
   "cell_type": "code",
   "execution_count": null,
   "metadata": {},
   "outputs": [],
   "source": [
    "# put your code here\n",
    "\n"
   ]
  },
  {
   "cell_type": "markdown",
   "metadata": {},
   "source": [
    "##### Exercise 1.2. The kernel trick\n",
    "\n",
    "From the linear classifier derive a kernel based classifier by\n",
    "\n",
    "- 1) Replacing the regression weight vector $\\beta$ by the linear combination $\\beta =  \\sum_i \\lambda_i \\phi(\\bf x^{(i)})$ in the stochastic gradient updates\n",
    "\n",
    "\n",
    "- 2) writing down the updates in the $\\lambda_i$ (instead of the $\\beta$)\n",
    "\n",
    "\n",
    "- 3) replacing every occurence of $(\\bf x^{(i)})^T(\\bf x^{(j)})$ but the entry $K_{ij}$ of the kernel matrix $K(i,j) = \\exp(-\\|\\bf x^{(i)} - \\bf{x}^{(j)} \\|^2/\\sigma)$\n",
    "\n",
    "\n",
    "\n",
    "- Finally get the value of the $\\lambda_i$ by applying a sufficient number of updates in $\\lambda_i$ and derive the classifier as $y(\\bf x) = \\bf \\beta^T\\bf x = \\sum_{i}\\lambda_i (\\bf x^{(i)})^T(\\bf x)$ in which we substitute the kernel to get the final classifier as $y(\\bf x) = \\bf \\beta^T\\bf x = \\sum_{i}\\lambda_i K(\\bf x, \\bf x^{(i)})$"
   ]
  },
  {
   "cell_type": "code",
   "execution_count": null,
   "metadata": {},
   "outputs": [],
   "source": []
  },
  {
   "cell_type": "markdown",
   "metadata": {},
   "source": [
    "\n",
    "\n",
    "\n",
    "### Part II: Clustering\n",
    "\n",
    "\n",
    "##### Exercise 1.1. General K means\n",
    "\n",
    "Consider the dataset given below. Implement the K means algorithm and run it on top of this dataset. "
   ]
  },
  {
   "cell_type": "code",
   "execution_count": 1,
   "metadata": {},
   "outputs": [
    {
     "data": {
      "image/png": "[encoded data removed]",
      "text/plain": [
       "<Figure size 432x288 with 1 Axes>"
      ]
     },
     "metadata": {
      "needs_background": "light"
     },
     "output_type": "display_data"
    }
   ],
   "source": [
    "from sklearn.datasets import make_blobs\n",
    "import matplotlib.pyplot as plt\n",
    "\n",
    "n_samples = 200\n",
    "random_state = 170\n",
    "X, y = make_blobs(n_samples=n_samples, centers = 4,random_state=random_state)\n",
    "\n",
    "plt.scatter(X[:,0], X[:,1])\n",
    "plt.show()\n",
    "\n",
    "\n",
    "def Kmeans(data, K):\n",
    "    \n",
    "    '''function should implement a simple K means clustering with random \n",
    "    initilization of the centroids. K is the number of clusters'''\n",
    "\n",
    "\n",
    "    return "
   ]
  },
  {
   "cell_type": "markdown",
   "metadata": {},
   "source": [
    "##### Exercise 1.2. The Elbow method\n",
    "\n",
    "Run your algorithm with a number of clusters $K=1,2,3,4,5,6,7,8,9$ and $10$. For each of those values, Compute the Within-Cluster-Sum of Squared Error (i.e. $E = \\sum_{\\mathcal{C}_k}\\sum_{i\\in \\mathcal{C}_k} (c_k - x_i)^2$) then plot this error as a function of $K$. What do you notice?\n"
   ]
  },
  {
   "cell_type": "markdown",
   "metadata": {},
   "source": [
    "##### Exercise 1.3. The importance of initialization\n",
    "\n",
    "Extend your implementation of K means from the previous exercise so that it takes an additional argument specifying the initialization. You should contain implementations of each of the following approaches\n",
    "\n",
    "- Random partitioning (the method starts from a random assignment of the points)\n",
    "- Forgy (The method picks $K$ feature vectors at random and assign the remaining points to the nearest centroid)\n",
    "- K means++ (see below)\n",
    "- MacQueen (see below)\n",
    "- Kauffman (see below)\n",
    "\n",
    "In the Macqueen Approach proposed by MacQueen (1967), one chooses K instances of the database (seeds) at random. We then assign, following the instance order, the rest of the instances to the cluster with nearest centroid. After each assignment a recalculation of the centroids has to be carried out\n",
    "\n",
    "In the Kauffman approach, we first select the most centrally located instance. Then for every non selected instance $x_i$ repeat the following steps:\n",
    "   - For every non selected instance $x_j$ calculate $C_{ji} = \\max(D_j -d_{ji},0)$ where $d_{ji} = \\|x_i - x_j\\|$ and $D_j = \\min_{s} d_{sj}$. $s$ being one of the selected seeds\n",
    "   - Calculate the gain of selecting $x_i$ as $\\sum_{j} C_{ji}$\n",
    "Select the not yet selected instance $x_i$ which maximizes $\\sum_{j} C_{ji}$. If there are $K$ selected seeds then stop. Otherwise go to step 2. \n",
    "\n",
    "In K means++, we choose a center uniformly at random among the points. For each point $x_i$ from $\\mathcal{D}$, compute the distance $D(x_i)$ between $x_i$ and the nearest centroid that has already been chosen. Choose a new point at random as the next center using a weighted probability distribution where a new point is chosen with probability proportional to $D^2(x_i)$. Repeat the steps until $K$ centers have been chosen.\n"
   ]
  },
  {
   "cell_type": "code",
   "execution_count": null,
   "metadata": {
    "collapsed": true
   },
   "outputs": [],
   "source": [
    "def Kmeans(data, initialization):\n",
    "    \n",
    "    '''function should implement K means clustering for each of the \n",
    "    initializations listed above'''\n",
    "\n",
    "\n",
    "\n",
    "\n",
    "\n",
    "    return "
   ]
  },
  {
   "cell_type": "markdown",
   "metadata": {},
   "source": [
    "##### Exercise 1.4. Semisupervised: Constrained K means. \n",
    "\n",
    "Clustering is traditionally viewed as an unsupervised method for data analysis. In some cases however, information about the problem domain might be available in addition to the the data instances themselves. Within such a framework, one approach is to define so-called 'Must Link' and 'Cannot link'. The former referring to points that must be placed in the same cluster. The latter referring to points that cannot be placed in the same cluster. One can then extend K-means as follows\n",
    "\n",
    "1. Let $C_1, \\ldots C_K$ denote the initial cluster centers\n",
    "2. For each point $x_i$ in the dataset $\\mathcal{D}$, assign the point to the closest cluster $C_j$ such that the point does not violate any of the constraint. If no such cluster exist, return Failure\n",
    "3. For each cluster $C_j$, update its center by averaging al the points $d_j$ that have been assigned to it\n",
    "4. Iterate between (2) and (3) until convergence \n",
    "5. Return ${C_1, \\ldots C_K}$\n",
    "\n",
    "The constraint check can be carried out as follows. For every point $d_i$ in the dataset with closest cluster $C_j$, you need to check that for every $(d_i,d_k)$ in the set of all constraints, the constraint is satisfied. \n",
    "\n",
    "Apply this extension to the dataset below. setting as the 'Must link' a unique cluster for all the samples in consi and as 'Cannot link' a different cluster for the points in distinct consi, consj."
   ]
  },
  {
   "cell_type": "code",
   "execution_count": 12,
   "metadata": {},
   "outputs": [
    {
     "data": {
      "image/png": "[encoded data removed]",
      "text/plain": [
       "<Figure size 432x288 with 1 Axes>"
      ]
     },
     "metadata": {},
     "output_type": "display_data"
    }
   ],
   "source": [
    "import scipy.io\n",
    "import matplotlib.pyplot as plt\n",
    "\n",
    "cluster1 = scipy.io.loadmat('cluster1.mat')['cluster1']\n",
    "cluster2 = scipy.io.loadmat('cluster2.mat')['cluster2']\n",
    "cluster3 = scipy.io.loadmat('cluster3.mat')['cluster3']\n",
    "\n",
    "cons1 = scipy.io.loadmat('cons1.mat')['cons1']\n",
    "cons2 = scipy.io.loadmat('cons2.mat')['cons2']\n",
    "cons3 = scipy.io.loadmat('cons3.mat')['cons3']\n",
    "\n",
    "\n",
    "plt.scatter(cons1[:,0], cons1[:,1])\n",
    "plt.scatter(cons2[:,0], cons2[:,1])\n",
    "plt.scatter(cons3[:,0], cons3[:,1])\n",
    "\n",
    "plt.scatter(cluster1[:,0], cluster1[:,1], c='m')\n",
    "plt.scatter(cluster2[:,0], cluster2[:,1], c='m')\n",
    "plt.scatter(cluster3[:,0], cluster3[:,1], c='m')\n",
    "\n",
    "plt.show()\n",
    "\n",
    "\n"
   ]
  },
  {
   "cell_type": "markdown",
   "metadata": {},
   "source": [
    "##### Exercise 1.5. Image segmentation\n",
    "\n",
    "K-means is commonly used in computer vision as a form of image segmentation. To each pixel of an image is associated its color described in RGB. The image to be segmented can then be represented as a set of points in a 3D data space. Consider the image below. By carefully initializing K means with the right number of clusters (and possibly merging subclusters), try to separate the parrot from the background. You might want to downsample the image"
   ]
  },
  {
   "cell_type": "code",
   "execution_count": 88,
   "metadata": {},
   "outputs": [
    {
     "data": {
      "image/png": "[encoded data removed]",
      "text/plain": [
       "<Figure size 432x288 with 1 Axes>"
      ]
     },
     "metadata": {
      "needs_background": "light"
     },
     "output_type": "display_data"
    }
   ],
   "source": [
    "\n",
    "import matplotlib.pyplot as plt\n",
    "import matplotlib.image as mpimg\n",
    "img = mpimg.imread('KmeansParrot.jpeg')\n",
    "imgplot = plt.imshow(img)\n",
    "plt.show()"
   ]
  },
  {
   "cell_type": "markdown",
   "metadata": {},
   "source": [
    "### Part II : Reinforcement Learning"
   ]
  },
  {
   "cell_type": "markdown",
   "metadata": {},
   "source": [
    "Recall that reinforcement learning relies on the interaction of the learning algorithm (which we call agent in this framework) and its environment by means of the actions the learner takes, which impact the environment and the rewards he received in return for his actions.   "
   ]
  },
  {
   "cell_type": "markdown",
   "metadata": {},
   "source": [
    "#### IIa : Greedy approach and $\\varepsilon$-Greedy approaches\n",
    "\n",
    "##### Exercise I.1. Stationnary approach\n",
    "\n",
    "We will start by considering a simple k-armed bandit problem such as the one discussed in class. Here we take $k = 4$ and we take the reward to follow a Gaussian distribution with mean $mu_i$ and $\\sigma = 1$. "
   ]
  },
  {
   "cell_type": "code",
   "execution_count": null,
   "metadata": {},
   "outputs": [],
   "source": [
    "mu1 = 0 # put your choice for the value \n",
    "# (the mean of the distribution). We assume the distribution of the \n",
    "mu2 = 0\n",
    "mu3 = 0\n",
    "mu4 = 0\n",
    "\n",
    "sigma1 = 1\n",
    "sigma2 = 1\n",
    "sigma3 = 1\n",
    "sigma4 = 1\n",
    "\n",
    "\n",
    "\n",
    "\n",
    "maxIter = 100\n",
    "iter = 0\n",
    "\n",
    "while iter < maxIter:\n",
    "    \n",
    "    \n",
    "    action = 0 # sample an action at random from 0 to 3\n",
    "    \n",
    "    reward = 0 # sample the reward according to the Gaussian distribution\n",
    "    \n",
    "    value  = 0 # update the value \n",
    "    \n",
    "    \n",
    "    iter +=1\n",
    "    "
   ]
  },
  {
   "cell_type": "markdown",
   "metadata": {},
   "source": [
    "##### Exercise I.2. Non stationnary version\n",
    "\n",
    "Now code the non stationnary version of the k-bandit algorithm"
   ]
  },
  {
   "cell_type": "code",
   "execution_count": null,
   "metadata": {},
   "outputs": [],
   "source": [
    "mu1 = 0 # put your choice for the value \n",
    "# (the mean of the distribution). We assume the distribution of the \n",
    "mu2 = 0\n",
    "mu3 = 0\n",
    "mu4 = 0\n",
    "\n",
    "sigma1 = 1\n",
    "sigma2 = 1\n",
    "sigma3 = 1\n",
    "sigma4 = 1\n",
    "\n",
    "\n",
    "\n",
    "\n",
    "maxIter = 100\n",
    "iter = 0\n",
    "\n",
    "while iter < maxIter:\n",
    "    \n",
    "    \n",
    "    action = 0 # sample an action at random from 0 to 3\n",
    "    \n",
    "    reward = 0 # sample the reward according to the Gaussian distribution\n",
    "    \n",
    "    value  = 0 # update the value \n",
    "    \n",
    "    \n",
    "    iter +=1\n",
    "    "
   ]
  },
  {
   "cell_type": "markdown",
   "metadata": {},
   "source": [
    "#### Exercise II. Escape room\n",
    "\n",
    "\n",
    "In this exercise, we will tackle a simple reinforcement learning problem. Consider the map given below. There are 5 rooms + the garden. We would like to train an agent to get out of the house as quickly as possible. To set up the evironment, we will consider 6 possible state (the rooms in which the agent is located) and 6 possible actions (moving from one room to any other room). \n",
    "\n",
    "The Q-table can thus be encoded by a $6$ by $6$ matrix. We will consider three types of rewards. Impossible moves (example 1 to 4) will be penalized by $1$. possible moves will be associated to a $0$ reward. Finally any move leading to an escape (e.g. 2 to 6) will be rewarded by 100. "
   ]
  },
  {
   "cell_type": "markdown",
   "metadata": {},
   "source": [
    "\n",
    "Map\n",
    "<img src=\"QLearningImage2.png\" width=\"700\" height=\"600\">"
   ]
  },
  {
   "cell_type": "markdown",
   "metadata": {},
   "source": [
    "#### Question II.1\n",
    "\n",
    "As a first approach, we will just run a couple of pure exploration iterations. Just fill out the loop below and run a couple of "
   ]
  },
  {
   "cell_type": "code",
   "execution_count": null,
   "metadata": {},
   "outputs": [],
   "source": [
    "done = False \n",
    "\n",
    "while not done: \n",
    "    \n",
    "    \n",
    "    '''complete the greedy steps by sampling an action at random and updating the state of the environement\n",
    "    until the variable Done is not set to True. Set this variable to True when the agent is able to escape the house'''\n",
    "    \n",
    "    \n",
    "    \n",
    "    \n",
    "    \n",
    "    "
   ]
  },
  {
   "cell_type": "markdown",
   "metadata": {},
   "source": [
    "#### Question II.2\n",
    "\n",
    "Now that you can solve the greedy approach. We will start to exploit and we will do that through the use of a $Q$ table. In this case, as indicated in the statement of the exercise, the Q-table is 6x6. Train the agent by alternating between exploitation and exploration. \n",
    "\n",
    "Since we want to update the $Q$-table, we will now add a line of the form \n",
    "\n",
    "$$Q[s, a] \\leftarrow (1-\\alpha)Q[s,a] + \\alpha\\left(R[a] + \\gamma\\max_{a'}Q[s',a']\\right)$$\n",
    "\n",
    "When in the exploration framework, we will sample the action at random as in Question III.1. When in the exploitation framework however, we will simply choose the action as the one that maximizes the entry in the $Q$-table for the particular state at which we are. Hence we have $a^* = \\underset{a}{\\operatorname{argmax}} Q[s,a]$. \n",
    "\n",
    "\n",
    "Code this epsilon-greedy approach below. You can start $\\epsilon =0.8$ \n",
    "Take a sufficiently small learning rate (you can for example start with 0.5) and a relatively large discount factor $\\gamma=0.9$ (You can later change those values to see how they affec the learning)\n",
    "\n",
    "Once you are done with the algorithm, try a couple of different values for $\\epsilon$ and describe the evolution in the learning. "
   ]
  },
  {
   "cell_type": "code",
   "execution_count": null,
   "metadata": {},
   "outputs": [],
   "source": [
    "done = False \n",
    "\n",
    "epsilon = 0\n",
    "gamma = 0\n",
    "alpha = 0\n",
    "\n",
    "for episode in range(NumEpisodes):\n",
    "\n",
    "    done =False \n",
    "    \n",
    "    while not done: \n",
    "    \n",
    "    \n",
    "    '''Draw a number at random from the uniform distribution between 0 and 1''' \n",
    "    \n",
    "    \n",
    "    '''If the number is less then epsilon, explore if it is larger, exploit'''\n",
    "    \n",
    "    if randomDraw < epsilon:\n",
    "        \n",
    "        # exploration\n",
    "        \n",
    "        '''update the Q-table'''\n",
    "        \n",
    "    else:\n",
    "        \n",
    "        # exploitation\n",
    "        \n",
    "        '''update the Q-table'''\n",
    "        \n",
    "        \n",
    "    "
   ]
  },
  {
   "cell_type": "markdown",
   "metadata": {},
   "source": [
    "\n",
    "#### Exercise III.1. Gym Self Driving cab\n",
    "\n",
    "\n",
    "There are several libraries in python including RLLib, pybrain,... that can be used to code reinforcement learning approaches. When Starting, a good approach is to consider the [Gym toolkit](https://gym.openai.com/) from openAI. Gym is compatible with both Theano and TensorFlow and contains a collection of examples that can be used to illustrate most of the reinforcement learning frameworks. Install gym with \"pip install gym\" (you may need !pip install cmake 'gym[atari]') or use \n",
    "\n",
    "\"git clone https://github.com/openai/gym\"\n",
    "\n",
    "\"cd gym\"\n",
    "\n",
    "\"pip install -e .\"\n",
    "\n",
    "if you prefer to clone the git repository. \n",
    "\n",
    "\n",
    "(based on the [learndatasci](https://www.learndatasci.com/) tutorials)\n",
    "\n",
    "As a starting point, we will consider the [self driving cab](https://gym.openai.com/envs/Taxi-v2/) example. Use the lines below to display the map for this particular example. The objective in this exercise is to train the cab through RL in order to (1) Drop off the passenger at the right location (2) save as much time as possible by taking the shortest path from the pick up to the drop off location and (3) respect traffic rules. \n",
    "\n",
    "- The cab is represented by the yellow rectangle. It is free to move on a 5x 5 grid and its spatial state can thus be described by a dimension 25 vector. \n",
    "\n",
    "- Wherever it is, the cab has four possible destinations, the four positions 'R', 'Y' 'G' and 'B'.  \n",
    "\n",
    "- We will further assume that the passengers can be picked up in any of the four locations R, G, Y and B. On top of those four locations, we also need to account for the framework in which the passenger is inside the cab. Any passenger position can thus be encoded by 5 binary variables.\n",
    "\n",
    "\n",
    "In this case, the state of the environment can thus be encoded by $5\\times 5 \\times 4 \\times 5$ binary variables. \n",
    "\n",
    "\n",
    "- Finally we need to encode the possible actions that the cab can take. At each location the cab can move in each of the four directions - east, west, north, south but it can also pick up or dropoff a passenger. We can thus encode the actions of the cab through 6 binary variables. \n",
    "\n",
    "\n"
   ]
  },
  {
   "cell_type": "code",
   "execution_count": null,
   "metadata": {},
   "outputs": [],
   "source": [
    "import gym\n",
    "\n",
    "env = gym.make(\"Taxi-v2\").env\n",
    "\n",
    "env.render()"
   ]
  },
  {
   "cell_type": "markdown",
   "metadata": {},
   "source": [
    "__The cab is not supposed to cross the vertical bars which are representing wall and we will thus enforce this by setting the reward associated to impossible moves to -1__"
   ]
  },
  {
   "cell_type": "markdown",
   "metadata": {},
   "source": [
    "Gym lets us access the environement by means of the variable 'env'. The variable comes up with 3 methods. \n",
    "\n",
    "- env.reset\n",
    "- env.step (apply a step)\n",
    "- env.render (display the current state of the environment)\n",
    "\n",
    "You can also use env.action_space as well as env.observation_space to respectively access the set of actions and existing states of the environment. \n",
    "\n",
    "Use the first and third methods to reset and display the original state of your environment after resetting it."
   ]
  },
  {
   "cell_type": "code",
   "execution_count": null,
   "metadata": {},
   "outputs": [],
   "source": [
    "env.render(129)\n",
    "env.step(5)\n",
    "env.render()"
   ]
  },
  {
   "cell_type": "markdown",
   "metadata": {},
   "source": [
    "The point of this first exercise is for the agent to learn a mapping from the existing states to the optimal actions."
   ]
  },
  {
   "cell_type": "markdown",
   "metadata": {},
   "source": [
    "__Step I. Interacting with and displaying the environment.__ \n",
    "\n",
    "Each state o fthe environment can either be encoded as a single number (between 0 and 499) or as a (5,5,5,4) tuple of the form (cab row, cab col, passenger index, direction). To move between the two, gym provides teh method 'encode' of the variable 'env'. Using the lines below, together with the render method discussed above, set and display a couple of environment states\n"
   ]
  },
  {
   "cell_type": "code",
   "execution_count": null,
   "metadata": {},
   "outputs": [],
   "source": []
  },
  {
   "cell_type": "markdown",
   "metadata": {},
   "source": [
    "__Step II. Taking actions based on rewards__ \n",
    "\n",
    "To each state of the environment is associated a Reward table which can be accessed through the line env.P[n] where n is the number encoding a particular state of the environment. Look at the reward tables of the states you rendered above. "
   ]
  },
  {
   "cell_type": "code",
   "execution_count": null,
   "metadata": {},
   "outputs": [],
   "source": []
  },
  {
   "cell_type": "markdown",
   "metadata": {},
   "source": [
    "The reward table has 5 rows (encoding the actions) and four columns of the form (probability, nextstate, reward, done). In this framework we don't consider any probability so this variable is always set to $1$. The last column indicates when the cab has droped a passenger at the right location. \n",
    "\n",
    "Each successful dropoff concludes one episode. \n",
    "\n",
    "\n",
    "#### Exercise III.1. \n",
    "\n",
    "Implement a full episode. That is we want an infinite loop that stops when the passenger has been droped. \n",
    "\n",
    "(hint: to sample an action you can use the method 'env.action_space.sample()'. Then note that env.step returns a four tuple of the form (state, reward, done, info) where 'done' indicates whether the passenger has been droped.)"
   ]
  },
  {
   "cell_type": "code",
   "execution_count": null,
   "metadata": {},
   "outputs": [],
   "source": [
    "'''This script should run one episode in which the cab takes random actions \n",
    "until the passenger is droped at the right location'''\n",
    "\n",
    "import numpy as np\n",
    "\n",
    "done = False\n",
    "\n",
    "frames = []\n",
    "\n",
    "maxIter = 200\n",
    "num_iter = 0\n",
    "\n",
    "while not done: # change the condition for the loop to stop when the state \n",
    "    \n",
    "    \n",
    "    # put your code here\n",
    "    \n",
    "    \n",
    "    frames.append({\n",
    "        'frame': env.render(mode='ansi'),\n",
    "        'state': state,\n",
    "        'action': action,\n",
    "        'reward': reward\n",
    "        }\n",
    "    )\n",
    "    \n",
    "    num_iter+=1"
   ]
  },
  {
   "cell_type": "markdown",
   "metadata": {},
   "source": [
    "\n",
    "Once you have stored all the frames, use the lines below to play the resulting movie."
   ]
  },
  {
   "cell_type": "code",
   "execution_count": null,
   "metadata": {},
   "outputs": [],
   "source": [
    "from IPython.display import clear_output\n",
    "from time import sleep\n",
    "\n",
    "def print_frames(frames):\n",
    "    for i, frame in enumerate(frames):\n",
    "        clear_output(wait=True)\n",
    "        print(frame['frame'].getvalue())\n",
    "        sleep(.1)\n",
    "        \n",
    "print_frames(frames)"
   ]
  },
  {
   "cell_type": "markdown",
   "metadata": {},
   "source": [
    "#### Exercise III.2. \n",
    "\n",
    "We will now see how one can exploit the previous experience of our agent to increase the rewards over time through Q-learning. In Q-learning the idea is to keep track of the actions that were beneficial by updating a mapping from any pair (environment state, action) to some number encoding the value of the pair. Q-values are updated following the equation \n",
    "\n",
    "\\begin{align}\n",
    "Q(\\text{state}, \\text{action}) &\\leftarrow (1-\\alpha) Q(\\text{state}, \\text{action}) \\\\\n",
    "&+ \\alpha (\\text{reward} + \\gamma \\max_a Q(\\text{next state}, \\text{all actions}))\\end{align}\n"
   ]
  },
  {
   "cell_type": "markdown",
   "metadata": {},
   "source": [
    "That is we not only try to maximize the immediate reward but we also try to look for the action that will lead to the highest potential reward one step ahead. In the equation above, $\\alpha$ can be interpreted as a __learning rate__. $\\gamma$ which is known as the __discount factor__ indicates how much importance we want to give to the future rewards.  "
   ]
  },
  {
   "cell_type": "markdown",
   "metadata": {},
   "source": [
    "The __Q-table__ is a table with 500 rows corresponding to the 500 states and 6 columns encoding each of the 6 actions. We will use a numpy array of zero to encode this table. Finally in order for our learning algorithm to be efficient, we will alternate between exploitation (with probability epsilon) and exploitation with probability (1-epsilon). \n",
    "\n",
    "\n",
    "Extend the \"random cab\" episode from Exercise II.1. in order to account for the Q table. \n",
    "\n",
    "- Use the line 'next_state, reward, done, info = env.step(action)'  to update the environment \n",
    "- Select the action either at random or according to the Q-table\n",
    "\n",
    "(Hint: to decide between exploration and exploitation, split the $[0,1]$ interval between a $[0,\\varepsilon]$ subinterval and a $[\\varepsilon,1]$ subinterval. Then draw a number uniformly at random from the $[0,1]$ interval. If the number falls in $[0,\\varepsilon]$ interval then pick an action at random. Otherwise,  )"
   ]
  },
  {
   "cell_type": "code",
   "execution_count": null,
   "metadata": {},
   "outputs": [],
   "source": [
    "'''This script should code one episode in which a random action is \n",
    "taken with probability epsilon and the action maximizing Q is taken with probability (1-epsilon)'''\n",
    "\n",
    "\n",
    "import random\n",
    "from IPython.display import clear_output\n",
    "\n",
    "# Hyperparameters\n",
    "alpha = 0.1\n",
    "gamma = 0.6\n",
    "epsilon = 0.1\n",
    "\n",
    "# For plotting metrics\n",
    "all_epochs = []\n",
    "all_penalties = []\n",
    "\n",
    "for i in range(1, 100001):\n",
    "    state = env.reset()\n",
    "\n",
    "    epochs, penalties, reward, = 0, 0, 0\n",
    "    done = False\n",
    "    \n",
    "    while not done:\n",
    "        \n",
    "     # put your code here\n",
    "        \n",
    "        \n",
    "    if i % 100 == 0:\n",
    "        clear_output(wait=True)\n",
    "        print(f\"Episode: {i}\")\n",
    "\n"
   ]
  },
  {
   "cell_type": "markdown",
   "metadata": {},
   "source": [
    "#### Exercise III.3. Evaluating the agent \n",
    "\n",
    "Once you have learned the Q-table, evaluate the agent behavior by choosing at each the step and in each state, the action that maximizes the value of the Q-table and play the resulting movie using the "
   ]
  },
  {
   "cell_type": "code",
   "execution_count": null,
   "metadata": {},
   "outputs": [],
   "source": [
    "# put your code here\n"
   ]
  },
  {
   "cell_type": "markdown",
   "metadata": {},
   "source": [
    "### Part V : Value function approximation\n",
    "\n",
    "<img src=\"parametricEx.png\" width=400 height=400 />\n",
    "\n",
    "We consider the environment given above (arrows indicate a fixed policy). In this environment, just as in the Wumpus world, the action in every state are up, down, left and right. In this framework we will adopt a slightly different approach and we will assign reward to states rather than actions (the objective being to escape from the room).\n",
    "\n",
    "The two terminal states have rewards $+1$ and $-1$. All the other states have reward $-0.04$. We will add some difficulty to the problem by considering that the actions of the agent are unreliable. We will assume that each time the agent selects an action, this action is actually carried out with probability 80% while there is a 10% chance that the agent will perform the orthogonal alternatives (see Fig. below). This is equivalent to the $\\varepsilon$-greedy policy we used in the bandit framework except that we now use it on states rather than actions. \n",
    "\n",
    "In such a framework, we can either decide to learn the utility directly througha simple discounted running average\n",
    "\n",
    "$$U^\\pi(s) = \\mathbb{E}\\left[\\sum_{t=0}^\\infty \\gamma^tR(S_t)\\right]$$\n",
    "\n",
    "we can also rely on the Bellman equation and update our value estimates as \n",
    "\n",
    "$$U^\\pi(s)\\leftarrow U^{\\pi}(s) + \\alpha\\left[R(s) + \\gamma U^\\pi(s') - U^\\pi(s)\\right]$$\n",
    "\n",
    "Note that the reward above is the reward of the state we reach. Alternatively, when the state space is too large, we could decide to learn a parametric representation of the utility. In this case, we have  \n",
    "\n",
    "$$\\hat{U}^\\pi(s) = \\theta_1 f_1 + \\theta_2 f_2 + ....$$\n",
    "\n",
    "where each $f_i(s)$ is a carefully chosen function of the state $s$. \n",
    "\n",
    "For the environment above, we could for example choose to parametrize our model as a function of the $(x, y)$ location of our agent. \n",
    "\n",
    "$$\\hat{U}_\\theta(x, y) = \\theta_0 + \\theta_1x + \\theta_2 y$$\n",
    "\n",
    "We can then update our parametric model by minimizing the oberved utility $u_j(s)$ after the $j^{th}$ trial and the prediction given by our parametric model $U_\\theta(s)$. If we choose to use the $\\ell_2$ loss,\n",
    "\n",
    "\\begin{align}\n",
    "\\ell(\\theta) = \\|\\hat{U}_\\theta(s) - u_j(s)\\|^2 \n",
    "\\end{align}\n",
    "\n",
    "we get the updates \n",
    "\n",
    "\\begin{align}\n",
    "\\theta_0 &\\leftarrow \\theta_0 + \\alpha(u_j(s) - \\hat{U}_\\theta(s))\\\\\n",
    "\\theta_1 &\\leftarrow \\theta_1 + \\alpha(u_j(s) - \\hat{U}_\\theta(s))x\\\\\n",
    "\\theta_2 &\\leftarrow \\theta_2 + \\alpha(u_j(s) - \\hat{U}_\\theta(s))y\n",
    "\\end{align}\n",
    "\n",
    "Implement each of the three approaches listed above. \n",
    "\n",
    "\n"
   ]
  }
 ],
 "metadata": {
  "kernelspec": {
   "display_name": "Python 3",
   "language": "python",
   "name": "python3"
  },
  "language_info": {
   "codemirror_mode": {
    "name": "ipython",
    "version": 3
   },
   "file_extension": ".py",
   "mimetype": "text/x-python",
   "name": "python",
   "nbconvert_exporter": "python",
   "pygments_lexer": "ipython3",
   "version": "3.9.7"
  }
 },
 "nbformat": 4,
 "nbformat_minor": 2
}
